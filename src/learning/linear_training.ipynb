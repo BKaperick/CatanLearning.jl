{
 "cells": [
  {
   "cell_type": "code",
   "execution_count": 3,
   "id": "89dbb516",
   "metadata": {},
   "outputs": [
    {
     "name": "stderr",
     "output_type": "stream",
     "text": [
      "\u001b[36m\u001b[1m[ \u001b[22m\u001b[39m\u001b[36m\u001b[1mInfo: \u001b[22m\u001b[39mAdding new configs: /home/bryan/Projects/Catan/CatanLearning.jl/src/../DefaultConfiguration.toml\n"
     ]
    }
   ],
   "source": [
    "using LinearAlgebra\n",
    "using Tables\n",
    "using DataFrames\n",
    "using CSV\n",
    "using Catan\n",
    "using CatanLearning"
   ]
  },
  {
   "cell_type": "code",
   "execution_count": 4,
   "id": "9bff37a9",
   "metadata": {},
   "outputs": [
    {
     "data": {
      "text/html": [
       "<div><div style = \"float: left;\"><span>211169×28 DataFrame</span></div><div style = \"float: right;\"><span style = \"font-style: italic;\">211144 rows omitted</span></div><div style = \"clear: both;\"></div></div><div class = \"data-frame\" style = \"overflow-x: scroll;\"><table class = \"data-frame\" style = \"margin-bottom: 6px;\"><thead><tr class = \"header\"><th class = \"rowNumber\" style = \"font-weight: bold; text-align: right;\">Row</th><th style = \"text-align: left;\">CountSettlement</th><th style = \"text-align: left;\">CountTotalSettlement</th><th style = \"text-align: left;\">CountCity</th><th style = \"text-align: left;\">CountRoad</th><th style = \"text-align: left;\">MaxRoadLength</th><th style = \"text-align: left;\">SumWoodDiceWeight</th><th style = \"text-align: left;\">SumBrickDiceWeight</th><th style = \"text-align: left;\">SumPastureDiceWeight</th><th style = \"text-align: left;\">SumStoneDiceWeight</th><th style = \"text-align: left;\">SumGrainDiceWeight</th><th style = \"text-align: left;\">CountPortWood</th><th style = \"text-align: left;\">CountPortBrick</th><th style = \"text-align: left;\">CountPortPasture</th><th style = \"text-align: left;\">CountPortStone</th><th style = \"text-align: left;\">CountPortGrain</th><th style = \"text-align: left;\">CountTotalWood</th><th style = \"text-align: left;\">CountTotalBrick</th><th style = \"text-align: left;\">CountTotalPasture</th><th style = \"text-align: left;\">CountTotalStone</th><th style = \"text-align: left;\">CountTotalGrain</th><th style = \"text-align: left;\">CountDevCardsKnight</th><th style = \"text-align: left;\">CountDevCardsMonopoly</th><th style = \"text-align: left;\">CountDevCardsYearOfPlenty</th><th style = \"text-align: left;\">CountDevCardsRoadBuilding</th><th style = \"text-align: left;\">CountDevCardsVictoryPoint</th><th style = \"text-align: left;\">HasLargestArmy</th><th style = \"text-align: left;\">HasLongestRoad</th><th style = \"text-align: left;\">WonGame</th></tr><tr class = \"subheader headerLastRow\"><th class = \"rowNumber\" style = \"font-weight: bold; text-align: right;\"></th><th title = \"Int8\" style = \"text-align: left;\">Int8</th><th title = \"Int8\" style = \"text-align: left;\">Int8</th><th title = \"Int8\" style = \"text-align: left;\">Int8</th><th title = \"Int8\" style = \"text-align: left;\">Int8</th><th title = \"Int8\" style = \"text-align: left;\">Int8</th><th title = \"Int16\" style = \"text-align: left;\">Int16</th><th title = \"Int16\" style = \"text-align: left;\">Int16</th><th title = \"Int16\" style = \"text-align: left;\">Int16</th><th title = \"Int16\" style = \"text-align: left;\">Int16</th><th title = \"Int16\" style = \"text-align: left;\">Int16</th><th title = \"Int8\" style = \"text-align: left;\">Int8</th><th title = \"Int8\" style = \"text-align: left;\">Int8</th><th title = \"Int8\" style = \"text-align: left;\">Int8</th><th title = \"Int8\" style = \"text-align: left;\">Int8</th><th title = \"Int8\" style = \"text-align: left;\">Int8</th><th title = \"Int8\" style = \"text-align: left;\">Int8</th><th title = \"Int8\" style = \"text-align: left;\">Int8</th><th title = \"Int8\" style = \"text-align: left;\">Int8</th><th title = \"Int8\" style = \"text-align: left;\">Int8</th><th title = \"Int8\" style = \"text-align: left;\">Int8</th><th title = \"Int8\" style = \"text-align: left;\">Int8</th><th title = \"Int8\" style = \"text-align: left;\">Int8</th><th title = \"Int8\" style = \"text-align: left;\">Int8</th><th title = \"Int8\" style = \"text-align: left;\">Int8</th><th title = \"Int8\" style = \"text-align: left;\">Int8</th><th title = \"Bool\" style = \"text-align: left;\">Bool</th><th title = \"Bool\" style = \"text-align: left;\">Bool</th><th title = \"CategoricalArrays.CategoricalValue{Bool, UInt32}\" style = \"text-align: left;\">Cat…</th></tr></thead><tbody><tr><td class = \"rowNumber\" style = \"font-weight: bold; text-align: right;\">1</td><td style = \"text-align: right;\">2</td><td style = \"text-align: right;\">2</td><td style = \"text-align: right;\">0</td><td style = \"text-align: right;\">3</td><td style = \"text-align: right;\">2</td><td style = \"text-align: right;\">6</td><td style = \"text-align: right;\">0</td><td style = \"text-align: right;\">2</td><td style = \"text-align: right;\">0</td><td style = \"text-align: right;\">11</td><td style = \"text-align: right;\">0</td><td style = \"text-align: right;\">0</td><td style = \"text-align: right;\">0</td><td style = \"text-align: right;\">0</td><td style = \"text-align: right;\">0</td><td style = \"text-align: right;\">5</td><td style = \"text-align: right;\">5</td><td style = \"text-align: right;\">6</td><td style = \"text-align: right;\">0</td><td style = \"text-align: right;\">8</td><td style = \"text-align: right;\">0</td><td style = \"text-align: right;\">0</td><td style = \"text-align: right;\">0</td><td style = \"text-align: right;\">0</td><td style = \"text-align: right;\">0</td><td style = \"text-align: right;\">false</td><td style = \"text-align: right;\">false</td><td style = \"text-align: left;\">false</td></tr><tr><td class = \"rowNumber\" style = \"font-weight: bold; text-align: right;\">2</td><td style = \"text-align: right;\">2</td><td style = \"text-align: right;\">2</td><td style = \"text-align: right;\">0</td><td style = \"text-align: right;\">2</td><td style = \"text-align: right;\">1</td><td style = \"text-align: right;\">0</td><td style = \"text-align: right;\">4</td><td style = \"text-align: right;\">5</td><td style = \"text-align: right;\">5</td><td style = \"text-align: right;\">0</td><td style = \"text-align: right;\">0</td><td style = \"text-align: right;\">0</td><td style = \"text-align: right;\">0</td><td style = \"text-align: right;\">0</td><td style = \"text-align: right;\">0</td><td style = \"text-align: right;\">6</td><td style = \"text-align: right;\">6</td><td style = \"text-align: right;\">9</td><td style = \"text-align: right;\">7</td><td style = \"text-align: right;\">2</td><td style = \"text-align: right;\">0</td><td style = \"text-align: right;\">0</td><td style = \"text-align: right;\">0</td><td style = \"text-align: right;\">0</td><td style = \"text-align: right;\">0</td><td style = \"text-align: right;\">false</td><td style = \"text-align: right;\">false</td><td style = \"text-align: left;\">false</td></tr><tr><td class = \"rowNumber\" style = \"font-weight: bold; text-align: right;\">3</td><td style = \"text-align: right;\">2</td><td style = \"text-align: right;\">2</td><td style = \"text-align: right;\">0</td><td style = \"text-align: right;\">2</td><td style = \"text-align: right;\">1</td><td style = \"text-align: right;\">0</td><td style = \"text-align: right;\">11</td><td style = \"text-align: right;\">2</td><td style = \"text-align: right;\">5</td><td style = \"text-align: right;\">3</td><td style = \"text-align: right;\">0</td><td style = \"text-align: right;\">0</td><td style = \"text-align: right;\">0</td><td style = \"text-align: right;\">0</td><td style = \"text-align: right;\">0</td><td style = \"text-align: right;\">10</td><td style = \"text-align: right;\">10</td><td style = \"text-align: right;\">6</td><td style = \"text-align: right;\">4</td><td style = \"text-align: right;\">3</td><td style = \"text-align: right;\">0</td><td style = \"text-align: right;\">0</td><td style = \"text-align: right;\">0</td><td style = \"text-align: right;\">0</td><td style = \"text-align: right;\">0</td><td style = \"text-align: right;\">false</td><td style = \"text-align: right;\">false</td><td style = \"text-align: left;\">false</td></tr><tr><td class = \"rowNumber\" style = \"font-weight: bold; text-align: right;\">4</td><td style = \"text-align: right;\">2</td><td style = \"text-align: right;\">2</td><td style = \"text-align: right;\">0</td><td style = \"text-align: right;\">2</td><td style = \"text-align: right;\">1</td><td style = \"text-align: right;\">4</td><td style = \"text-align: right;\">0</td><td style = \"text-align: right;\">0</td><td style = \"text-align: right;\">0</td><td style = \"text-align: right;\">5</td><td style = \"text-align: right;\">0</td><td style = \"text-align: right;\">0</td><td style = \"text-align: right;\">0</td><td style = \"text-align: right;\">0</td><td style = \"text-align: right;\">0</td><td style = \"text-align: right;\">4</td><td style = \"text-align: right;\">4</td><td style = \"text-align: right;\">2</td><td style = \"text-align: right;\">0</td><td style = \"text-align: right;\">7</td><td style = \"text-align: right;\">0</td><td style = \"text-align: right;\">0</td><td style = \"text-align: right;\">0</td><td style = \"text-align: right;\">0</td><td style = \"text-align: right;\">0</td><td style = \"text-align: right;\">false</td><td style = \"text-align: right;\">false</td><td style = \"text-align: left;\">false</td></tr><tr><td class = \"rowNumber\" style = \"font-weight: bold; text-align: right;\">5</td><td style = \"text-align: right;\">2</td><td style = \"text-align: right;\">2</td><td style = \"text-align: right;\">0</td><td style = \"text-align: right;\">3</td><td style = \"text-align: right;\">2</td><td style = \"text-align: right;\">0</td><td style = \"text-align: right;\">4</td><td style = \"text-align: right;\">0</td><td style = \"text-align: right;\">0</td><td style = \"text-align: right;\">5</td><td style = \"text-align: right;\">0</td><td style = \"text-align: right;\">0</td><td style = \"text-align: right;\">0</td><td style = \"text-align: right;\">0</td><td style = \"text-align: right;\">0</td><td style = \"text-align: right;\">5</td><td style = \"text-align: right;\">5</td><td style = \"text-align: right;\">2</td><td style = \"text-align: right;\">0</td><td style = \"text-align: right;\">2</td><td style = \"text-align: right;\">0</td><td style = \"text-align: right;\">0</td><td style = \"text-align: right;\">0</td><td style = \"text-align: right;\">0</td><td style = \"text-align: right;\">0</td><td style = \"text-align: right;\">false</td><td style = \"text-align: right;\">false</td><td style = \"text-align: left;\">false</td></tr><tr><td class = \"rowNumber\" style = \"font-weight: bold; text-align: right;\">6</td><td style = \"text-align: right;\">2</td><td style = \"text-align: right;\">2</td><td style = \"text-align: right;\">0</td><td style = \"text-align: right;\">5</td><td style = \"text-align: right;\">3</td><td style = \"text-align: right;\">6</td><td style = \"text-align: right;\">4</td><td style = \"text-align: right;\">2</td><td style = \"text-align: right;\">1</td><td style = \"text-align: right;\">3</td><td style = \"text-align: right;\">0</td><td style = \"text-align: right;\">0</td><td style = \"text-align: right;\">0</td><td style = \"text-align: right;\">0</td><td style = \"text-align: right;\">0</td><td style = \"text-align: right;\">11</td><td style = \"text-align: right;\">11</td><td style = \"text-align: right;\">2</td><td style = \"text-align: right;\">1</td><td style = \"text-align: right;\">3</td><td style = \"text-align: right;\">0</td><td style = \"text-align: right;\">0</td><td style = \"text-align: right;\">0</td><td style = \"text-align: right;\">0</td><td style = \"text-align: right;\">0</td><td style = \"text-align: right;\">false</td><td style = \"text-align: right;\">false</td><td style = \"text-align: left;\">false</td></tr><tr><td class = \"rowNumber\" style = \"font-weight: bold; text-align: right;\">7</td><td style = \"text-align: right;\">2</td><td style = \"text-align: right;\">2</td><td style = \"text-align: right;\">0</td><td style = \"text-align: right;\">5</td><td style = \"text-align: right;\">2</td><td style = \"text-align: right;\">2</td><td style = \"text-align: right;\">4</td><td style = \"text-align: right;\">3</td><td style = \"text-align: right;\">0</td><td style = \"text-align: right;\">3</td><td style = \"text-align: right;\">0</td><td style = \"text-align: right;\">0</td><td style = \"text-align: right;\">0</td><td style = \"text-align: right;\">0</td><td style = \"text-align: right;\">0</td><td style = \"text-align: right;\">8</td><td style = \"text-align: right;\">8</td><td style = \"text-align: right;\">6</td><td style = \"text-align: right;\">0</td><td style = \"text-align: right;\">3</td><td style = \"text-align: right;\">0</td><td style = \"text-align: right;\">0</td><td style = \"text-align: right;\">0</td><td style = \"text-align: right;\">0</td><td style = \"text-align: right;\">0</td><td style = \"text-align: right;\">false</td><td style = \"text-align: right;\">false</td><td style = \"text-align: left;\">false</td></tr><tr><td class = \"rowNumber\" style = \"font-weight: bold; text-align: right;\">8</td><td style = \"text-align: right;\">2</td><td style = \"text-align: right;\">2</td><td style = \"text-align: right;\">0</td><td style = \"text-align: right;\">2</td><td style = \"text-align: right;\">1</td><td style = \"text-align: right;\">6</td><td style = \"text-align: right;\">0</td><td style = \"text-align: right;\">0</td><td style = \"text-align: right;\">0</td><td style = \"text-align: right;\">8</td><td style = \"text-align: right;\">0</td><td style = \"text-align: right;\">1</td><td style = \"text-align: right;\">0</td><td style = \"text-align: right;\">0</td><td style = \"text-align: right;\">0</td><td style = \"text-align: right;\">6</td><td style = \"text-align: right;\">6</td><td style = \"text-align: right;\">2</td><td style = \"text-align: right;\">0</td><td style = \"text-align: right;\">4</td><td style = \"text-align: right;\">0</td><td style = \"text-align: right;\">0</td><td style = \"text-align: right;\">0</td><td style = \"text-align: right;\">0</td><td style = \"text-align: right;\">0</td><td style = \"text-align: right;\">false</td><td style = \"text-align: right;\">false</td><td style = \"text-align: left;\">false</td></tr><tr><td class = \"rowNumber\" style = \"font-weight: bold; text-align: right;\">9</td><td style = \"text-align: right;\">1</td><td style = \"text-align: right;\">2</td><td style = \"text-align: right;\">1</td><td style = \"text-align: right;\">2</td><td style = \"text-align: right;\">1</td><td style = \"text-align: right;\">2</td><td style = \"text-align: right;\">0</td><td style = \"text-align: right;\">0</td><td style = \"text-align: right;\">10</td><td style = \"text-align: right;\">8</td><td style = \"text-align: right;\">0</td><td style = \"text-align: right;\">0</td><td style = \"text-align: right;\">0</td><td style = \"text-align: right;\">0</td><td style = \"text-align: right;\">0</td><td style = \"text-align: right;\">3</td><td style = \"text-align: right;\">3</td><td style = \"text-align: right;\">5</td><td style = \"text-align: right;\">7</td><td style = \"text-align: right;\">11</td><td style = \"text-align: right;\">1</td><td style = \"text-align: right;\">0</td><td style = \"text-align: right;\">0</td><td style = \"text-align: right;\">0</td><td style = \"text-align: right;\">0</td><td style = \"text-align: right;\">false</td><td style = \"text-align: right;\">false</td><td style = \"text-align: left;\">false</td></tr><tr><td class = \"rowNumber\" style = \"font-weight: bold; text-align: right;\">10</td><td style = \"text-align: right;\">2</td><td style = \"text-align: right;\">2</td><td style = \"text-align: right;\">0</td><td style = \"text-align: right;\">2</td><td style = \"text-align: right;\">1</td><td style = \"text-align: right;\">0</td><td style = \"text-align: right;\">0</td><td style = \"text-align: right;\">2</td><td style = \"text-align: right;\">0</td><td style = \"text-align: right;\">11</td><td style = \"text-align: right;\">0</td><td style = \"text-align: right;\">0</td><td style = \"text-align: right;\">0</td><td style = \"text-align: right;\">0</td><td style = \"text-align: right;\">0</td><td style = \"text-align: right;\">4</td><td style = \"text-align: right;\">4</td><td style = \"text-align: right;\">4</td><td style = \"text-align: right;\">0</td><td style = \"text-align: right;\">13</td><td style = \"text-align: right;\">0</td><td style = \"text-align: right;\">0</td><td style = \"text-align: right;\">0</td><td style = \"text-align: right;\">0</td><td style = \"text-align: right;\">0</td><td style = \"text-align: right;\">false</td><td style = \"text-align: right;\">false</td><td style = \"text-align: left;\">false</td></tr><tr><td class = \"rowNumber\" style = \"font-weight: bold; text-align: right;\">11</td><td style = \"text-align: right;\">2</td><td style = \"text-align: right;\">2</td><td style = \"text-align: right;\">0</td><td style = \"text-align: right;\">2</td><td style = \"text-align: right;\">1</td><td style = \"text-align: right;\">2</td><td style = \"text-align: right;\">0</td><td style = \"text-align: right;\">5</td><td style = \"text-align: right;\">5</td><td style = \"text-align: right;\">0</td><td style = \"text-align: right;\">0</td><td style = \"text-align: right;\">0</td><td style = \"text-align: right;\">0</td><td style = \"text-align: right;\">0</td><td style = \"text-align: right;\">0</td><td style = \"text-align: right;\">4</td><td style = \"text-align: right;\">4</td><td style = \"text-align: right;\">5</td><td style = \"text-align: right;\">5</td><td style = \"text-align: right;\">3</td><td style = \"text-align: right;\">0</td><td style = \"text-align: right;\">0</td><td style = \"text-align: right;\">0</td><td style = \"text-align: right;\">0</td><td style = \"text-align: right;\">0</td><td style = \"text-align: right;\">false</td><td style = \"text-align: right;\">false</td><td style = \"text-align: left;\">false</td></tr><tr><td class = \"rowNumber\" style = \"font-weight: bold; text-align: right;\">12</td><td style = \"text-align: right;\">2</td><td style = \"text-align: right;\">2</td><td style = \"text-align: right;\">0</td><td style = \"text-align: right;\">2</td><td style = \"text-align: right;\">1</td><td style = \"text-align: right;\">6</td><td style = \"text-align: right;\">0</td><td style = \"text-align: right;\">2</td><td style = \"text-align: right;\">0</td><td style = \"text-align: right;\">0</td><td style = \"text-align: right;\">1</td><td style = \"text-align: right;\">0</td><td style = \"text-align: right;\">0</td><td style = \"text-align: right;\">0</td><td style = \"text-align: right;\">0</td><td style = \"text-align: right;\">4</td><td style = \"text-align: right;\">4</td><td style = \"text-align: right;\">4</td><td style = \"text-align: right;\">0</td><td style = \"text-align: right;\">3</td><td style = \"text-align: right;\">0</td><td style = \"text-align: right;\">0</td><td style = \"text-align: right;\">0</td><td style = \"text-align: right;\">0</td><td style = \"text-align: right;\">0</td><td style = \"text-align: right;\">false</td><td style = \"text-align: right;\">false</td><td style = \"text-align: left;\">false</td></tr><tr><td class = \"rowNumber\" style = \"font-weight: bold; text-align: right;\">13</td><td style = \"text-align: right;\">2</td><td style = \"text-align: right;\">2</td><td style = \"text-align: right;\">0</td><td style = \"text-align: right;\">2</td><td style = \"text-align: right;\">1</td><td style = \"text-align: right;\">6</td><td style = \"text-align: right;\">0</td><td style = \"text-align: right;\">0</td><td style = \"text-align: right;\">11</td><td style = \"text-align: right;\">0</td><td style = \"text-align: right;\">0</td><td style = \"text-align: right;\">0</td><td style = \"text-align: right;\">1</td><td style = \"text-align: right;\">0</td><td style = \"text-align: right;\">0</td><td style = \"text-align: right;\">4</td><td style = \"text-align: right;\">4</td><td style = \"text-align: right;\">2</td><td style = \"text-align: right;\">10</td><td style = \"text-align: right;\">2</td><td style = \"text-align: right;\">0</td><td style = \"text-align: right;\">0</td><td style = \"text-align: right;\">0</td><td style = \"text-align: right;\">0</td><td style = \"text-align: right;\">0</td><td style = \"text-align: right;\">false</td><td style = \"text-align: right;\">false</td><td style = \"text-align: left;\">false</td></tr><tr><td style = \"text-align: right;\">&vellip;</td><td style = \"text-align: right;\">&vellip;</td><td style = \"text-align: right;\">&vellip;</td><td style = \"text-align: right;\">&vellip;</td><td style = \"text-align: right;\">&vellip;</td><td style = \"text-align: right;\">&vellip;</td><td style = \"text-align: right;\">&vellip;</td><td style = \"text-align: right;\">&vellip;</td><td style = \"text-align: right;\">&vellip;</td><td style = \"text-align: right;\">&vellip;</td><td style = \"text-align: right;\">&vellip;</td><td style = \"text-align: right;\">&vellip;</td><td style = \"text-align: right;\">&vellip;</td><td style = \"text-align: right;\">&vellip;</td><td style = \"text-align: right;\">&vellip;</td><td style = \"text-align: right;\">&vellip;</td><td style = \"text-align: right;\">&vellip;</td><td style = \"text-align: right;\">&vellip;</td><td style = \"text-align: right;\">&vellip;</td><td style = \"text-align: right;\">&vellip;</td><td style = \"text-align: right;\">&vellip;</td><td style = \"text-align: right;\">&vellip;</td><td style = \"text-align: right;\">&vellip;</td><td style = \"text-align: right;\">&vellip;</td><td style = \"text-align: right;\">&vellip;</td><td style = \"text-align: right;\">&vellip;</td><td style = \"text-align: right;\">&vellip;</td><td style = \"text-align: right;\">&vellip;</td><td style = \"text-align: right;\">&vellip;</td></tr><tr><td class = \"rowNumber\" style = \"font-weight: bold; text-align: right;\">211158</td><td style = \"text-align: right;\">2</td><td style = \"text-align: right;\">2</td><td style = \"text-align: right;\">0</td><td style = \"text-align: right;\">4</td><td style = \"text-align: right;\">2</td><td style = \"text-align: right;\">4</td><td style = \"text-align: right;\">0</td><td style = \"text-align: right;\">4</td><td style = \"text-align: right;\">0</td><td style = \"text-align: right;\">6</td><td style = \"text-align: right;\">0</td><td style = \"text-align: right;\">0</td><td style = \"text-align: right;\">0</td><td style = \"text-align: right;\">0</td><td style = \"text-align: right;\">0</td><td style = \"text-align: right;\">6</td><td style = \"text-align: right;\">6</td><td style = \"text-align: right;\">12</td><td style = \"text-align: right;\">7</td><td style = \"text-align: right;\">13</td><td style = \"text-align: right;\">6</td><td style = \"text-align: right;\">1</td><td style = \"text-align: right;\">0</td><td style = \"text-align: right;\">1</td><td style = \"text-align: right;\">2</td><td style = \"text-align: right;\">true</td><td style = \"text-align: right;\">false</td><td style = \"text-align: left;\">false</td></tr><tr><td class = \"rowNumber\" style = \"font-weight: bold; text-align: right;\">211159</td><td style = \"text-align: right;\">4</td><td style = \"text-align: right;\">4</td><td style = \"text-align: right;\">0</td><td style = \"text-align: right;\">14</td><td style = \"text-align: right;\">8</td><td style = \"text-align: right;\">3</td><td style = \"text-align: right;\">4</td><td style = \"text-align: right;\">2</td><td style = \"text-align: right;\">0</td><td style = \"text-align: right;\">1</td><td style = \"text-align: right;\">0</td><td style = \"text-align: right;\">0</td><td style = \"text-align: right;\">0</td><td style = \"text-align: right;\">0</td><td style = \"text-align: right;\">0</td><td style = \"text-align: right;\">21</td><td style = \"text-align: right;\">21</td><td style = \"text-align: right;\">10</td><td style = \"text-align: right;\">2</td><td style = \"text-align: right;\">6</td><td style = \"text-align: right;\">0</td><td style = \"text-align: right;\">1</td><td style = \"text-align: right;\">0</td><td style = \"text-align: right;\">0</td><td style = \"text-align: right;\">0</td><td style = \"text-align: right;\">false</td><td style = \"text-align: right;\">false</td><td style = \"text-align: left;\">false</td></tr><tr><td class = \"rowNumber\" style = \"font-weight: bold; text-align: right;\">211160</td><td style = \"text-align: right;\">0</td><td style = \"text-align: right;\">2</td><td style = \"text-align: right;\">2</td><td style = \"text-align: right;\">8</td><td style = \"text-align: right;\">5</td><td style = \"text-align: right;\">8</td><td style = \"text-align: right;\">0</td><td style = \"text-align: right;\">0</td><td style = \"text-align: right;\">6</td><td style = \"text-align: right;\">20</td><td style = \"text-align: right;\">0</td><td style = \"text-align: right;\">0</td><td style = \"text-align: right;\">0</td><td style = \"text-align: right;\">0</td><td style = \"text-align: right;\">0</td><td style = \"text-align: right;\">9</td><td style = \"text-align: right;\">9</td><td style = \"text-align: right;\">3</td><td style = \"text-align: right;\">14</td><td style = \"text-align: right;\">16</td><td style = \"text-align: right;\">3</td><td style = \"text-align: right;\">0</td><td style = \"text-align: right;\">0</td><td style = \"text-align: right;\">0</td><td style = \"text-align: right;\">2</td><td style = \"text-align: right;\">false</td><td style = \"text-align: right;\">false</td><td style = \"text-align: left;\">false</td></tr><tr><td class = \"rowNumber\" style = \"font-weight: bold; text-align: right;\">211161</td><td style = \"text-align: right;\">5</td><td style = \"text-align: right;\">6</td><td style = \"text-align: right;\">1</td><td style = \"text-align: right;\">14</td><td style = \"text-align: right;\">6</td><td style = \"text-align: right;\">26</td><td style = \"text-align: right;\">16</td><td style = \"text-align: right;\">0</td><td style = \"text-align: right;\">0</td><td style = \"text-align: right;\">10</td><td style = \"text-align: right;\">0</td><td style = \"text-align: right;\">0</td><td style = \"text-align: right;\">1</td><td style = \"text-align: right;\">0</td><td style = \"text-align: right;\">1</td><td style = \"text-align: right;\">32</td><td style = \"text-align: right;\">32</td><td style = \"text-align: right;\">9</td><td style = \"text-align: right;\">10</td><td style = \"text-align: right;\">16</td><td style = \"text-align: right;\">1</td><td style = \"text-align: right;\">0</td><td style = \"text-align: right;\">1</td><td style = \"text-align: right;\">0</td><td style = \"text-align: right;\">0</td><td style = \"text-align: right;\">false</td><td style = \"text-align: right;\">false</td><td style = \"text-align: left;\">false</td></tr><tr><td class = \"rowNumber\" style = \"font-weight: bold; text-align: right;\">211162</td><td style = \"text-align: right;\">1</td><td style = \"text-align: right;\">5</td><td style = \"text-align: right;\">4</td><td style = \"text-align: right;\">14</td><td style = \"text-align: right;\">11</td><td style = \"text-align: right;\">18</td><td style = \"text-align: right;\">15</td><td style = \"text-align: right;\">6</td><td style = \"text-align: right;\">10</td><td style = \"text-align: right;\">10</td><td style = \"text-align: right;\">0</td><td style = \"text-align: right;\">0</td><td style = \"text-align: right;\">0</td><td style = \"text-align: right;\">0</td><td style = \"text-align: right;\">0</td><td style = \"text-align: right;\">32</td><td style = \"text-align: right;\">32</td><td style = \"text-align: right;\">6</td><td style = \"text-align: right;\">23</td><td style = \"text-align: right;\">16</td><td style = \"text-align: right;\">5</td><td style = \"text-align: right;\">1</td><td style = \"text-align: right;\">0</td><td style = \"text-align: right;\">0</td><td style = \"text-align: right;\">1</td><td style = \"text-align: right;\">false</td><td style = \"text-align: right;\">true</td><td style = \"text-align: left;\">false</td></tr><tr><td class = \"rowNumber\" style = \"font-weight: bold; text-align: right;\">211163</td><td style = \"text-align: right;\">2</td><td style = \"text-align: right;\">6</td><td style = \"text-align: right;\">4</td><td style = \"text-align: right;\">14</td><td style = \"text-align: right;\">10</td><td style = \"text-align: right;\">12</td><td style = \"text-align: right;\">16</td><td style = \"text-align: right;\">4</td><td style = \"text-align: right;\">9</td><td style = \"text-align: right;\">33</td><td style = \"text-align: right;\">0</td><td style = \"text-align: right;\">1</td><td style = \"text-align: right;\">0</td><td style = \"text-align: right;\">0</td><td style = \"text-align: right;\">0</td><td style = \"text-align: right;\">17</td><td style = \"text-align: right;\">17</td><td style = \"text-align: right;\">7</td><td style = \"text-align: right;\">18</td><td style = \"text-align: right;\">19</td><td style = \"text-align: right;\">1</td><td style = \"text-align: right;\">0</td><td style = \"text-align: right;\">1</td><td style = \"text-align: right;\">0</td><td style = \"text-align: right;\">0</td><td style = \"text-align: right;\">false</td><td style = \"text-align: right;\">true</td><td style = \"text-align: left;\">false</td></tr><tr><td class = \"rowNumber\" style = \"font-weight: bold; text-align: right;\">211164</td><td style = \"text-align: right;\">3</td><td style = \"text-align: right;\">7</td><td style = \"text-align: right;\">4</td><td style = \"text-align: right;\">14</td><td style = \"text-align: right;\">11</td><td style = \"text-align: right;\">12</td><td style = \"text-align: right;\">12</td><td style = \"text-align: right;\">4</td><td style = \"text-align: right;\">9</td><td style = \"text-align: right;\">49</td><td style = \"text-align: right;\">0</td><td style = \"text-align: right;\">1</td><td style = \"text-align: right;\">0</td><td style = \"text-align: right;\">0</td><td style = \"text-align: right;\">0</td><td style = \"text-align: right;\">25</td><td style = \"text-align: right;\">25</td><td style = \"text-align: right;\">7</td><td style = \"text-align: right;\">21</td><td style = \"text-align: right;\">29</td><td style = \"text-align: right;\">0</td><td style = \"text-align: right;\">0</td><td style = \"text-align: right;\">0</td><td style = \"text-align: right;\">1</td><td style = \"text-align: right;\">0</td><td style = \"text-align: right;\">false</td><td style = \"text-align: right;\">true</td><td style = \"text-align: left;\">false</td></tr><tr><td class = \"rowNumber\" style = \"font-weight: bold; text-align: right;\">211165</td><td style = \"text-align: right;\">5</td><td style = \"text-align: right;\">5</td><td style = \"text-align: right;\">0</td><td style = \"text-align: right;\">14</td><td style = \"text-align: right;\">8</td><td style = \"text-align: right;\">13</td><td style = \"text-align: right;\">11</td><td style = \"text-align: right;\">3</td><td style = \"text-align: right;\">0</td><td style = \"text-align: right;\">0</td><td style = \"text-align: right;\">0</td><td style = \"text-align: right;\">0</td><td style = \"text-align: right;\">1</td><td style = \"text-align: right;\">0</td><td style = \"text-align: right;\">1</td><td style = \"text-align: right;\">26</td><td style = \"text-align: right;\">26</td><td style = \"text-align: right;\">8</td><td style = \"text-align: right;\">2</td><td style = \"text-align: right;\">7</td><td style = \"text-align: right;\">0</td><td style = \"text-align: right;\">0</td><td style = \"text-align: right;\">0</td><td style = \"text-align: right;\">0</td><td style = \"text-align: right;\">1</td><td style = \"text-align: right;\">false</td><td style = \"text-align: right;\">false</td><td style = \"text-align: left;\">false</td></tr><tr><td class = \"rowNumber\" style = \"font-weight: bold; text-align: right;\">211166</td><td style = \"text-align: right;\">2</td><td style = \"text-align: right;\">2</td><td style = \"text-align: right;\">0</td><td style = \"text-align: right;\">3</td><td style = \"text-align: right;\">2</td><td style = \"text-align: right;\">0</td><td style = \"text-align: right;\">6</td><td style = \"text-align: right;\">6</td><td style = \"text-align: right;\">0</td><td style = \"text-align: right;\">0</td><td style = \"text-align: right;\">0</td><td style = \"text-align: right;\">0</td><td style = \"text-align: right;\">0</td><td style = \"text-align: right;\">0</td><td style = \"text-align: right;\">0</td><td style = \"text-align: right;\">5</td><td style = \"text-align: right;\">5</td><td style = \"text-align: right;\">3</td><td style = \"text-align: right;\">0</td><td style = \"text-align: right;\">2</td><td style = \"text-align: right;\">0</td><td style = \"text-align: right;\">0</td><td style = \"text-align: right;\">0</td><td style = \"text-align: right;\">0</td><td style = \"text-align: right;\">0</td><td style = \"text-align: right;\">false</td><td style = \"text-align: right;\">false</td><td style = \"text-align: left;\">false</td></tr><tr><td class = \"rowNumber\" style = \"font-weight: bold; text-align: right;\">211167</td><td style = \"text-align: right;\">4</td><td style = \"text-align: right;\">4</td><td style = \"text-align: right;\">0</td><td style = \"text-align: right;\">14</td><td style = \"text-align: right;\">6</td><td style = \"text-align: right;\">6</td><td style = \"text-align: right;\">4</td><td style = \"text-align: right;\">10</td><td style = \"text-align: right;\">0</td><td style = \"text-align: right;\">12</td><td style = \"text-align: right;\">0</td><td style = \"text-align: right;\">0</td><td style = \"text-align: right;\">0</td><td style = \"text-align: right;\">0</td><td style = \"text-align: right;\">1</td><td style = \"text-align: right;\">18</td><td style = \"text-align: right;\">18</td><td style = \"text-align: right;\">7</td><td style = \"text-align: right;\">2</td><td style = \"text-align: right;\">11</td><td style = \"text-align: right;\">0</td><td style = \"text-align: right;\">0</td><td style = \"text-align: right;\">0</td><td style = \"text-align: right;\">0</td><td style = \"text-align: right;\">1</td><td style = \"text-align: right;\">false</td><td style = \"text-align: right;\">false</td><td style = \"text-align: left;\">false</td></tr><tr><td class = \"rowNumber\" style = \"font-weight: bold; text-align: right;\">211168</td><td style = \"text-align: right;\">3</td><td style = \"text-align: right;\">4</td><td style = \"text-align: right;\">1</td><td style = \"text-align: right;\">8</td><td style = \"text-align: right;\">5</td><td style = \"text-align: right;\">0</td><td style = \"text-align: right;\">3</td><td style = \"text-align: right;\">12</td><td style = \"text-align: right;\">7</td><td style = \"text-align: right;\">7</td><td style = \"text-align: right;\">0</td><td style = \"text-align: right;\">0</td><td style = \"text-align: right;\">0</td><td style = \"text-align: right;\">0</td><td style = \"text-align: right;\">0</td><td style = \"text-align: right;\">11</td><td style = \"text-align: right;\">11</td><td style = \"text-align: right;\">14</td><td style = \"text-align: right;\">13</td><td style = \"text-align: right;\">16</td><td style = \"text-align: right;\">4</td><td style = \"text-align: right;\">0</td><td style = \"text-align: right;\">1</td><td style = \"text-align: right;\">2</td><td style = \"text-align: right;\">2</td><td style = \"text-align: right;\">false</td><td style = \"text-align: right;\">false</td><td style = \"text-align: left;\">false</td></tr><tr><td class = \"rowNumber\" style = \"font-weight: bold; text-align: right;\">211169</td><td style = \"text-align: right;\">5</td><td style = \"text-align: right;\">5</td><td style = \"text-align: right;\">0</td><td style = \"text-align: right;\">11</td><td style = \"text-align: right;\">9</td><td style = \"text-align: right;\">8</td><td style = \"text-align: right;\">3</td><td style = \"text-align: right;\">9</td><td style = \"text-align: right;\">4</td><td style = \"text-align: right;\">9</td><td style = \"text-align: right;\">0</td><td style = \"text-align: right;\">0</td><td style = \"text-align: right;\">0</td><td style = \"text-align: right;\">1</td><td style = \"text-align: right;\">0</td><td style = \"text-align: right;\">30</td><td style = \"text-align: right;\">30</td><td style = \"text-align: right;\">22</td><td style = \"text-align: right;\">7</td><td style = \"text-align: right;\">17</td><td style = \"text-align: right;\">8</td><td style = \"text-align: right;\">2</td><td style = \"text-align: right;\">1</td><td style = \"text-align: right;\">0</td><td style = \"text-align: right;\">1</td><td style = \"text-align: right;\">true</td><td style = \"text-align: right;\">true</td><td style = \"text-align: left;\">true</td></tr></tbody></table></div>"
      ],
      "text/latex": [
       "\\begin{tabular}{r|ccccccc}\n",
       "\t& CountSettlement & CountTotalSettlement & CountCity & CountRoad & MaxRoadLength & SumWoodDiceWeight & \\\\\n",
       "\t\\hline\n",
       "\t& Int8 & Int8 & Int8 & Int8 & Int8 & Int16 & \\\\\n",
       "\t\\hline\n",
       "\t1 & 2 & 2 & 0 & 3 & 2 & 6 & $\\dots$ \\\\\n",
       "\t2 & 2 & 2 & 0 & 2 & 1 & 0 & $\\dots$ \\\\\n",
       "\t3 & 2 & 2 & 0 & 2 & 1 & 0 & $\\dots$ \\\\\n",
       "\t4 & 2 & 2 & 0 & 2 & 1 & 4 & $\\dots$ \\\\\n",
       "\t5 & 2 & 2 & 0 & 3 & 2 & 0 & $\\dots$ \\\\\n",
       "\t6 & 2 & 2 & 0 & 5 & 3 & 6 & $\\dots$ \\\\\n",
       "\t7 & 2 & 2 & 0 & 5 & 2 & 2 & $\\dots$ \\\\\n",
       "\t8 & 2 & 2 & 0 & 2 & 1 & 6 & $\\dots$ \\\\\n",
       "\t9 & 1 & 2 & 1 & 2 & 1 & 2 & $\\dots$ \\\\\n",
       "\t10 & 2 & 2 & 0 & 2 & 1 & 0 & $\\dots$ \\\\\n",
       "\t11 & 2 & 2 & 0 & 2 & 1 & 2 & $\\dots$ \\\\\n",
       "\t12 & 2 & 2 & 0 & 2 & 1 & 6 & $\\dots$ \\\\\n",
       "\t13 & 2 & 2 & 0 & 2 & 1 & 6 & $\\dots$ \\\\\n",
       "\t14 & 2 & 2 & 0 & 2 & 1 & 2 & $\\dots$ \\\\\n",
       "\t15 & 2 & 2 & 0 & 2 & 1 & 6 & $\\dots$ \\\\\n",
       "\t16 & 1 & 2 & 1 & 4 & 2 & 4 & $\\dots$ \\\\\n",
       "\t17 & 3 & 3 & 0 & 3 & 2 & 6 & $\\dots$ \\\\\n",
       "\t18 & 1 & 2 & 1 & 2 & 1 & 4 & $\\dots$ \\\\\n",
       "\t19 & 2 & 2 & 0 & 2 & 1 & 2 & $\\dots$ \\\\\n",
       "\t20 & 2 & 2 & 0 & 2 & 1 & 6 & $\\dots$ \\\\\n",
       "\t21 & 2 & 2 & 0 & 5 & 4 & 4 & $\\dots$ \\\\\n",
       "\t22 & 2 & 2 & 0 & 3 & 2 & 6 & $\\dots$ \\\\\n",
       "\t23 & 2 & 2 & 0 & 2 & 1 & 2 & $\\dots$ \\\\\n",
       "\t24 & 2 & 2 & 0 & 2 & 1 & 0 & $\\dots$ \\\\\n",
       "\t$\\dots$ & $\\dots$ & $\\dots$ & $\\dots$ & $\\dots$ & $\\dots$ & $\\dots$ &  \\\\\n",
       "\\end{tabular}\n"
      ],
      "text/plain": [
       "\u001b[1m211169×28 DataFrame\u001b[0m\n",
       "\u001b[1m    Row \u001b[0m│\u001b[1m CountSettlement \u001b[0m\u001b[1m CountTotalSettlement \u001b[0m\u001b[1m CountCity \u001b[0m\u001b[1m CountRoad \u001b[0m\u001b[1m MaxRoad\u001b[0m ⋯\n",
       "        │\u001b[90m Int8            \u001b[0m\u001b[90m Int8                 \u001b[0m\u001b[90m Int8      \u001b[0m\u001b[90m Int8      \u001b[0m\u001b[90m Int8   \u001b[0m ⋯\n",
       "────────┼───────────────────────────────────────────────────────────────────────\n",
       "      1 │               2                     2          0          3          ⋯\n",
       "      2 │               2                     2          0          2\n",
       "      3 │               2                     2          0          2\n",
       "      4 │               2                     2          0          2\n",
       "      5 │               2                     2          0          3          ⋯\n",
       "      6 │               2                     2          0          5\n",
       "      7 │               2                     2          0          5\n",
       "      8 │               2                     2          0          2\n",
       "   ⋮    │        ⋮                  ⋮                ⋮          ⋮            ⋮ ⋱\n",
       " 211163 │               2                     6          4         14          ⋯\n",
       " 211164 │               3                     7          4         14\n",
       " 211165 │               5                     5          0         14\n",
       " 211166 │               2                     2          0          3\n",
       " 211167 │               4                     4          0         14          ⋯\n",
       " 211168 │               3                     4          1          8\n",
       " 211169 │               5                     5          0         11\n",
       "\u001b[36m                                              24 columns and 211154 rows omitted\u001b[0m"
      ]
     },
     "metadata": {},
     "output_type": "display_data"
    }
   ],
   "source": [
    "features_csv = \"/home/bryan/Projects/Catan/CatanLearning.jl/data/features.csv\"\n",
    "df = CatanLearning.load_typed_features_from_csv(features_csv)"
   ]
  },
  {
   "cell_type": "code",
   "execution_count": 5,
   "id": "1775dd4d",
   "metadata": {},
   "outputs": [
    {
     "data": {
      "text/plain": [
       "SVD{Float64, Float64, Matrix{Float64}, Vector{Float64}}\n",
       "U factor:\n",
       "211169×27 Matrix{Float64}:\n",
       " -0.00208837   0.00148831    0.00091066   …   0.990486      0.000431657\n",
       " -0.00200507   8.56047e-5    0.00131806      -0.136996      0.00375413\n",
       " -0.00253196  -0.00180983   -0.00158925       9.73024e-6   -0.000858054\n",
       " -0.00137719   0.000634233  -0.000260201     -9.85019e-6    0.000102426\n",
       " -0.00129344  -0.000940281  -0.000861422     -6.59877e-6   -0.000621633\n",
       " -0.00239747  -0.00237692   -0.00137789   …  -7.37721e-6   -0.00236759\n",
       " -0.00204396  -0.00177761    0.000809794     -2.17254e-6   -0.00130077\n",
       " -0.00162872   0.000126431  -0.000730498     -3.3506e-5    -0.00177491\n",
       " -0.00208532   0.00429178   -0.00161082      -2.82881e-5   -0.00299166\n",
       " -0.00191771   0.00236043    0.000530097     -2.77781e-5    0.00240059\n",
       "  ⋮                                       ⋱   ⋮            \n",
       " -0.00779474  -0.00510145   -0.00576713   …   9.52362e-5    0.00621907\n",
       " -0.00826403  -0.00176363   -0.00802073       0.000174087   0.0123511\n",
       " -0.00691104   0.00483806   -0.00701459      -7.23282e-5    0.00011885\n",
       " -0.00900056   0.00722285   -0.00898017      -0.000307255  -0.00145619\n",
       " -0.00557307  -0.00722737   -0.00215115       0.000130261   0.000830477\n",
       " -0.00139242  -0.00173357    0.0011356    …   3.17531e-5    0.00396935\n",
       " -0.00484868  -0.00193953    0.000607636     -1.7238e-5     0.000979038\n",
       " -0.00455229   0.00310892    0.0025843       -7.45211e-5    0.000440211\n",
       " -0.00756942  -0.00284146    0.00258519       0.000102539  -0.00342149\n",
       "singular values:\n",
       "27-element Vector{Float64}:\n",
       " 7164.808727915666\n",
       " 2727.8397013494496\n",
       " 2102.6065737130307\n",
       " 1860.8612033935424\n",
       " 1650.6623059784858\n",
       " 1038.032205452564\n",
       "  881.312792918195\n",
       "  764.7670295023556\n",
       "  728.8854288962477\n",
       "  621.0342334881166\n",
       "    ⋮\n",
       "  114.79292278358628\n",
       "  102.25219518501142\n",
       "  100.59484174684079\n",
       "  100.28999041118716\n",
       "   97.13932428392644\n",
       "   64.0116048384094\n",
       "   50.88370734347425\n",
       "    9.071534524265121e-13\n",
       "    6.324017858838113e-13\n",
       "Vt factor:\n",
       "27×27 Matrix{Float64}:\n",
       " -0.112294    -0.128512     -0.0162186    …  -0.002495     -0.00401522\n",
       " -0.051493     0.0010702     0.0525632        0.00658748   -0.0064349\n",
       "  0.0768774    0.0341408    -0.0427366        0.00176763   -0.00585183\n",
       " -0.0383513   -0.0160899     0.0222614        0.00382841    0.00111013\n",
       "  0.0501396    0.0463888    -0.00375076      -0.00386704    0.00624994\n",
       " -0.0814264   -0.0219783     0.0594481    …  -0.00199677   -0.00502364\n",
       "  0.0965064    0.0830277    -0.0134787       -0.00845633    0.00872854\n",
       " -0.196967    -0.139822      0.0571455        0.0142936     0.0321701\n",
       "  0.0239629    0.0257313     0.00176837      -0.00156279   -0.000292139\n",
       " -0.042013    -0.0260657     0.0159472        0.00627536    0.0477654\n",
       "  ⋮                                       ⋱   ⋮            \n",
       " -0.00476448   0.0480025     0.052767         0.000583212  -0.0119192\n",
       " -0.00346103  -0.0156402    -0.0121792        0.0072044     0.0100754\n",
       " -0.00490441   0.0191643     0.0240687    …  -0.0336154    -0.0474657\n",
       " -0.00393244   0.126399      0.130332        -0.0225448     0.0349741\n",
       " -0.00827899  -0.176236     -0.167957        -0.0632659     0.0912064\n",
       " -0.0246441   -0.0587117    -0.0340676       -0.00953888   -0.989382\n",
       " -0.00761224   0.0178666     0.0254789       -0.987935      0.00376562\n",
       " -0.57735      0.57735      -0.57735      …   7.51142e-18  -3.77337e-17\n",
       "  0.0          3.56099e-17   4.41101e-17      2.86638e-16   4.26572e-16"
      ]
     },
     "metadata": {},
     "output_type": "display_data"
    }
   ],
   "source": [
    "y = [value == true ? 1.0 : 0.0 for value in df[:, :WonGame]]\n",
    "# Extract the feature matrix\n",
    "X = Matrix(df[:, Not(:WonGame)])\n",
    "(m,n) = size(X)\n",
    "U,S,Vt = svd(X)"
   ]
  },
  {
   "cell_type": "code",
   "execution_count": 6,
   "id": "875c3658",
   "metadata": {},
   "outputs": [
    {
     "data": {
      "text/plain": [
       "25"
      ]
     },
     "metadata": {},
     "output_type": "display_data"
    }
   ],
   "source": [
    "threshold = 0.01\n",
    "N_num = length(filter(x -> x >= threshold, S))\n"
   ]
  },
  {
   "cell_type": "code",
   "execution_count": 7,
   "id": "62b7db02",
   "metadata": {},
   "outputs": [
    {
     "data": {
      "text/plain": [
       "27-element Vector{Float64}:\n",
       "   8.196609170146388\n",
       "   1.7562240830648355\n",
       "  -6.253038288141411\n",
       "   6.7163427602920684\n",
       " -15.416532508509901\n",
       "   9.579051502912318\n",
       "  -4.791003406272694\n",
       "  36.46632925864589\n",
       "   0.1973846122887263\n",
       "  22.917205681466392\n",
       "   ⋮\n",
       "   5.175219914373906\n",
       "  -0.37732618199977846\n",
       "   1.0219443020708452\n",
       "   5.916744119160844\n",
       "  -2.875731226771853\n",
       "   4.0614565378771115\n",
       "   0.810001888084425\n",
       "  75.21185983146667\n",
       "   0.3410094626086074"
      ]
     },
     "metadata": {},
     "output_type": "display_data"
    }
   ],
   "source": [
    "pseudo_inv = transpose(Vt)[1:n, 1:N_num] * diagm(S[1:N_num]) * transpose(U)[1:N_num, 1:m]\n",
    "model = pseudo_inv * y"
   ]
  },
  {
   "cell_type": "code",
   "execution_count": 8,
   "id": "3b7070e7",
   "metadata": {},
   "outputs": [
    {
     "data": {
      "text/plain": [
       "\"../../models/linear_model.csv\""
      ]
     },
     "metadata": {},
     "output_type": "display_data"
    }
   ],
   "source": [
    "df = DataFrame(Weights = model)\n",
    "CSV.write(\"../../models/linear_model.csv\", df)"
   ]
  },
  {
   "cell_type": "code",
   "execution_count": null,
   "id": "812be540",
   "metadata": {},
   "outputs": [],
   "source": [
    "function train_model(features_csv):\n",
    "    df = CatanLearning.load_typed_features_from_csv(features_csv)\n",
    "    y = [value == true ? 1.0 : 0.0 for value in df[:, :WonGame]]\n",
    "    # Extract the feature matrix\n",
    "    X = Matrix(df[:, Not(:WonGame)])\n",
    "    (m,n) = size(X)\n",
    "    U,S,Vt = svd(X)\n",
    "    threshold = 0.01\n",
    "    N_num = length(filter(x -> x >= threshold, S))\n",
    "    pseudo_inv = transpose(Vt)[1:n, 1:N_num] * diagm(S[1:N_num]) * transpose(U)[1:N_num, 1:m]\n",
    "    model = pseudo_inv * y\n",
    "    return model"
   ]
  },
  {
   "cell_type": "code",
   "execution_count": null,
   "id": "8317af79",
   "metadata": {},
   "outputs": [],
   "source": [
    "features_csv = \"/home/bryan/Projects/Catan/CatanLearning.jl/data/features.csv\"\n",
    "\n",
    "train_model(features_csv)"
   ]
  },
  {
   "cell_type": "code",
   "execution_count": 11,
   "id": "96d54c06",
   "metadata": {},
   "outputs": [],
   "source": []
  }
 ],
 "metadata": {
  "kernelspec": {
   "display_name": "Julia 1.11.5",
   "language": "julia",
   "name": "julia-1.11"
  },
  "language_info": {
   "file_extension": ".jl",
   "mimetype": "application/julia",
   "name": "julia",
   "version": "1.11.5"
  }
 },
 "nbformat": 4,
 "nbformat_minor": 5
}

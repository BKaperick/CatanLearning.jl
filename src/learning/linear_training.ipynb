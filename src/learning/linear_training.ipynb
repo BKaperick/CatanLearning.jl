{
 "cells": [
  {
   "cell_type": "code",
   "execution_count": null,
   "id": "89dbb516",
   "metadata": {},
   "outputs": [],
   "source": [
    "using LinearAlgebra\n",
    "using Tables\n",
    "using DataFrames\n",
    "using CSV\n",
    "using Catan\n",
    "using CatanLearning"
   ]
  },
  {
   "cell_type": "code",
   "execution_count": null,
   "id": "9bff37a9",
   "metadata": {},
   "outputs": [],
   "source": [
    "features_csv = \"/home/bryan/Projects/Catan/CatanLearning.jl/data/features.csv\"\n",
    "df = CatanLearning.load_typed_features_from_csv(features_csv)"
   ]
  },
  {
   "cell_type": "code",
   "execution_count": null,
   "id": "1775dd4d",
   "metadata": {},
   "outputs": [],
   "source": [
    "y = [value == true ? 1.0 : 0.0 for value in df[:, :WonGame]]\n",
    "# Extract the feature matrix\n",
    "X = Matrix(df[:, Not(:WonGame)])\n",
    "(m,n) = size(X)\n",
    "U,S,Vt = svd(X)"
   ]
  },
  {
   "cell_type": "code",
   "execution_count": null,
   "id": "875c3658",
   "metadata": {},
   "outputs": [],
   "source": [
    "threshold = 0.01\n",
    "N_num = length(filter(x -> x >= threshold, S))\n"
   ]
  },
  {
   "cell_type": "code",
   "execution_count": null,
   "id": "62b7db02",
   "metadata": {},
   "outputs": [],
   "source": [
    "pseudo_inv = transpose(Vt)[1:n, 1:N_num] * diagm(S[1:N_num]) * transpose(U)[1:N_num, 1:m]\n",
    "model = pseudo_inv * y"
   ]
  },
  {
   "cell_type": "code",
   "execution_count": null,
   "id": "3b7070e7",
   "metadata": {},
   "outputs": [],
   "source": [
    "df = DataFrame(Weights = model)\n",
    "CSV.write(\"../../models/linear_model.csv\", df)"
   ]
  },
  {
   "cell_type": "code",
   "execution_count": null,
   "id": "812be540",
   "metadata": {},
   "outputs": [],
   "source": [
    "function train_linear_model(features_csv)\n",
    "    df = CatanLearning.load_typed_features_from_csv(features_csv)\n",
    "    y = [value == true ? 1.0 : 0.0 for value in df[:, :WonGame]]\n",
    "    # Extract the feature matrix\n",
    "    X = Matrix(df[:, Not(:WonGame)])\n",
    "    (m,n) = size(X)\n",
    "    U,S,Vt = svd(X)\n",
    "    threshold = 0.01\n",
    "    N_num = length(filter(x -> x >= threshold, S))\n",
    "    pseudo_inv = transpose(Vt)[1:n, 1:N_num] * diagm(1 ./ S[1:N_num]) * transpose(U)[1:N_num, 1:m]\n",
    "    model = pseudo_inv * y\n",
    "    return model"
   ]
  },
  {
   "cell_type": "code",
   "execution_count": null,
   "id": "8317af79",
   "metadata": {},
   "outputs": [],
   "source": [
    "features_csv = \"/home/bryan/Projects/Catan/CatanLearning.jl/data/features.csv\"\n",
    "df = CatanLearning.load_typed_features_from_csv(features_csv)\n",
    "y = [value == true ? 1.0 : 0.0 for value in df[:, :WonGame]]\n",
    "# Extract the feature matrix\n",
    "X = Matrix(df[:, Not(:WonGame)])\n",
    "(m,n) = size(X)\n",
    "U,S,Vt = svd(X)\n",
    "threshold = 0.01\n",
    "N_num = length(filter(x -> x >= threshold, S))\n",
    "pseudo_inv = transpose(Vt)[1:n, 1:N_num] * diagm(1 ./ S[1:N_num]) * transpose(U)[1:N_num, 1:m]\n",
    "model = pseudo_inv * y\n",
    "#return model"
   ]
  },
  {
   "cell_type": "code",
   "execution_count": null,
   "id": "96d54c06",
   "metadata": {},
   "outputs": [],
   "source": [
    "norm(X * model - y)"
   ]
  },
  {
   "cell_type": "code",
   "execution_count": null,
   "id": "1a13b5ae",
   "metadata": {},
   "outputs": [],
   "source": [
    "1 ./ [1,2,3]"
   ]
  },
  {
   "cell_type": "code",
   "execution_count": null,
   "id": "fed53c17",
   "metadata": {},
   "outputs": [],
   "source": []
  }
 ],
 "metadata": {
  "kernelspec": {
   "display_name": "Julia 1.11.5",
   "language": "julia",
   "name": "julia-1.11"
  },
  "language_info": {
   "file_extension": ".jl",
   "mimetype": "application/julia",
   "name": "julia",
   "version": "1.11.5"
  }
 },
 "nbformat": 4,
 "nbformat_minor": 5
}

{
 "cells": [
  {
   "cell_type": "code",
   "execution_count": null,
   "metadata": {},
   "outputs": [],
   "source": [
    "using Random\n",
    "using CSV\n",
    "using MLJ\n",
    "using MLJDecisionTreeInterface\n",
    "using DecisionTree\n",
    "using DelimitedFiles\n",
    "using DataFrames\n",
    "import DataFramesMeta as DFM"
   ]
  },
  {
   "cell_type": "code",
   "execution_count": null,
   "metadata": {},
   "outputs": [],
   "source": [
    "features_csv = \"../../data/features.csv\"\n",
    "data, header = readdlm(features_csv, ',', header=true)\n",
    "df = DataFrame(data, vec(header))\n",
    "\n",
    "select!(df, Not([\n",
    "    :CountHandWood,\n",
    "    :CountHandBrick,\n",
    "    :CountHandPasture,\n",
    "    :CountHandStone,\n",
    "    :CountHandGrain,\n",
    "    :HasMostPoints,\n",
    "    :CountVictoryPoint\n",
    "    ]))"
   ]
  },
  {
   "cell_type": "code",
   "execution_count": null,
   "metadata": {},
   "outputs": [],
   "source": [
    "coerce!(df, :WonGame => Multiclass{2})\n",
    "df = DFM.@transform(df, :WonGame)\n",
    "df_train, df_test = partition(df, 0.1, rng=123)\n",
    "\n",
    "y, X = unpack(df_train, ==(:WonGame));\n",
    "y_test, X_test = unpack(df_test, ==(:WonGame));"
   ]
  },
  {
   "cell_type": "code",
   "execution_count": null,
   "metadata": {},
   "outputs": [],
   "source": [
    "function get_features_labels(df, label=:WonGame)\n",
    "    labels = df[!,label]\n",
    "    features = Matrix(df[!, setdiff(names(df), [String(label)])])\n",
    "    return labels, features\n",
    "end\n",
    "\n",
    "(labels, features) = get_features_labels(df_train)\n",
    "(l_test, f_test) = get_features_labels(df_test)\n",
    "\n",
    "#Matrix(df)\n",
    "#labels = convert(Matrix, y)"
   ]
  },
  {
   "cell_type": "code",
   "execution_count": null,
   "metadata": {},
   "outputs": [],
   "source": [
    "model = build_forest(labels, features)#, 2, 10, 0.5, 6)"
   ]
  },
  {
   "cell_type": "code",
   "execution_count": null,
   "metadata": {},
   "outputs": [],
   "source": [
    "y_pred = apply_forest(model, f_test)\n",
    "p_pred = apply_forest_proba(model, f_test, [0.0, 1.0])"
   ]
  },
  {
   "cell_type": "code",
   "execution_count": null,
   "metadata": {},
   "outputs": [],
   "source": [
    "for c=sort(collect(zip(names(df_train), impurity_importance(model))), by= t -> -t[2])\n",
    "    println(c)\n",
    "end"
   ]
  },
  {
   "cell_type": "code",
   "execution_count": null,
   "metadata": {},
   "outputs": [],
   "source": [
    "models(\"boost\")"
   ]
  },
  {
   "cell_type": "code",
   "execution_count": null,
   "metadata": {},
   "outputs": [],
   "source": [
    "\n",
    "\n",
    "gboost = Base.invokelatest(@load GradientBoostingClassifier pkg=MLJScikitLearnInterface verbosity=0)\n",
    "\n",
    "loaded_models = Base.invokelatest.(\n",
    "    [\n",
    "        (@load RandomForestClassifier pkg=DecisionTree verbosity=0),\n",
    "        (@load GradientBoostingClassifier pkg=MLJScikitLearnInterface verbosity=0)\n",
    "    ]\n",
    ")\n",
    "#thresholded_models = BinaryThresholdPredictor.(loaded_models, threshold=0.5)\n",
    "#r = range(thresholded_models, :threshold, lower=0.1, upper=0.9)"
   ]
  },
  {
   "cell_type": "code",
   "execution_count": null,
   "metadata": {},
   "outputs": [],
   "source": [
    "Tree = @load RandomForestClassifier pkg=DecisionTree verbosity=0\n",
    "tree = Base.invokelatest(Tree)\n",
    "\n",
    "thresholded_tree = BinaryThresholdPredictor(tree, threshold=0.5)\n",
    "ranges = [\n",
    "    range(thresholded_tree, :threshold, lower=0.1, upper=0.9),\n",
    "    range(thresholded_tree, :(model.min_purity_increase), lower=0.0, upper=0.9),\n",
    "    range(thresholded_tree, :(model.min_samples_leaf), lower=4, upper=10),\n",
    "    range(thresholded_tree, :(model.min_samples_split), lower=2, upper=8),\n",
    "    #range(thresholded_tree, :(model.partial_sampling), lower=0.5, upper=0.9),\n",
    "    range(thresholded_tree, :(model.n_trees), lower=5, upper=20)\n",
    "]\n",
    "\n",
    "tuned_tree = TunedModel(\n",
    "    thresholded_tree,\n",
    "    tuning=RandomSearch(),\n",
    "    resampling=CV(nfolds=6),\n",
    "    range = ranges,\n",
    "    measure = MatthewsCorrelation(),\n",
    "    n=100\n",
    ")\n",
    "#mach = machine(tree, X, y) |> MLJ.fit!"
   ]
  },
  {
   "cell_type": "code",
   "execution_count": null,
   "metadata": {},
   "outputs": [],
   "source": [
    "levels!(y, [0.0, 1.0])\n",
    "tuned_mach = machine(tuned_tree, X, y) |> MLJ.fit!\n",
    "report(tuned_mach)\n"
   ]
  },
  {
   "cell_type": "code",
   "execution_count": null,
   "metadata": {},
   "outputs": [],
   "source": [
    "optimized_tree = report(tuned_mach).best_model\n",
    "optimized_tree"
   ]
  },
  {
   "cell_type": "code",
   "execution_count": null,
   "metadata": {},
   "outputs": [],
   "source": [
    "mach = machine(optimized_tree, X_test, y_test) |> MLJ.fit!\n",
    "y_hat = predict_proba(mach, X_test)"
   ]
  },
  {
   "cell_type": "code",
   "execution_count": null,
   "metadata": {},
   "outputs": [],
   "source": [
    "convert(Int64, y_hat[1])\n",
    "#v = coerce([0.0, 1.0], Multiclass)\n",
    "#pdf(y_hat, levels(v))"
   ]
  },
  {
   "cell_type": "code",
   "execution_count": null,
   "metadata": {},
   "outputs": [],
   "source": [
    "using Plots\n",
    "plot(tuned_mach)"
   ]
  },
  {
   "cell_type": "code",
   "execution_count": null,
   "metadata": {},
   "outputs": [],
   "source": [
    "#MLJ.feature_importances(tuned_mach.model.model.model, tuned_mach.fitresult , report(tuned_mach))\n",
    "#impurity_importance(tuned_mach.model.model.model)\n",
    "fitted_params(tuned_mach)[1].model"
   ]
  },
  {
   "cell_type": "code",
   "execution_count": null,
   "metadata": {},
   "outputs": [],
   "source": [
    "m = MatthewsCorrelation()\n",
    "m(mode.(y_hat), y_test)"
   ]
  },
  {
   "cell_type": "code",
   "execution_count": null,
   "metadata": {},
   "outputs": [],
   "source": [
    "mlj_m = tuned_mach.model.model.model"
   ]
  },
  {
   "cell_type": "code",
   "execution_count": null,
   "metadata": {},
   "outputs": [],
   "source": [
    "convert(DecisionTree.RandomForestClassifier, mlj_m)"
   ]
  },
  {
   "cell_type": "code",
   "execution_count": null,
   "metadata": {},
   "outputs": [],
   "source": [
    "MLJ.save(\"model20250407.jls\", tuned_mach)"
   ]
  },
  {
   "cell_type": "code",
   "execution_count": null,
   "metadata": {},
   "outputs": [],
   "source": [
    "y_hat"
   ]
  },
  {
   "cell_type": "code",
   "execution_count": null,
   "metadata": {},
   "outputs": [],
   "source": []
  }
 ],
 "metadata": {
  "kernelspec": {
   "display_name": "Julia 1.10.4",
   "language": "julia",
   "name": "julia-1.10"
  },
  "language_info": {
   "file_extension": ".jl",
   "mimetype": "application/julia",
   "name": "julia",
   "version": "1.10.4"
  }
 },
 "nbformat": 4,
 "nbformat_minor": 2
}

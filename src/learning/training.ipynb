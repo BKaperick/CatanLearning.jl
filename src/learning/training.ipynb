{
 "cells": [
  {
   "cell_type": "code",
   "execution_count": 1,
   "metadata": {},
   "outputs": [],
   "source": [
    "\n",
    "using Random\n",
    "using CSV\n",
    "using MLJ\n",
    "using DataFrames\n",
    "import DataFramesMeta as DFM\n",
    "using DelimitedFiles\n",
    "using MLJScikitLearnInterface\n",
    "#df = DataFrame(CSV.File(ARGS[1]))\n",
    "#df = DataFrame(\"../../features.csv\")\n",
    "using Logging\n",
    "\n",
    "#logger = ConsoleLogger(stderr, Logging.Debug)\n",
    "#logger = ConsoleLogger(stderr, Logging.Info)\n",
    "#logger = ConsoleLogger(stderr, Logging.LogLevel(5000))\n",
    "#global_logger(logger)\n"
   ]
  },
  {
   "cell_type": "code",
   "execution_count": 2,
   "metadata": {},
   "outputs": [
    {
     "name": "stdout",
     "output_type": "stream",
     "text": [
      "CountSettlement\n",
      "CountCity\n",
      "CountRoad\n",
      "SumWoodDiceWeight\n",
      "SumBrickDiceWeight\n",
      "SumPastureDiceWeight\n",
      "SumStoneDiceWeight\n",
      "SumGrainDiceWeight\n",
      "CountPortWood\n",
      "CountPortBrick\n",
      "CountPortPasture\n",
      "CountPortStone\n",
      "CountPortGrain\n",
      "CountHandWood\n",
      "CountHandBrick\n",
      "CountHandPasture\n",
      "CountHandStone\n",
      "CountHandGrain\n",
      "CountTotalWood\n",
      "CountTotalBrick\n",
      "CountTotalPasture\n",
      "CountTotalStone\n",
      "CountTotalGrain\n",
      "CountDevCardsKnight\n",
      "CountDevCardsMonopoly\n",
      "CountDevCardsYearOfPlenty\n",
      "CountDevCardsRoadBuilding\n",
      "CountDevCardsVictoryPoint\n",
      "HasLargestArmy\n",
      "HasLongestRoad\n",
      "CountVictoryPoint\n",
      "HasMostPoints\n",
      "WonGame\n"
     ]
    }
   ],
   "source": [
    "features_csv = \"../../data/features.csv\"\n",
    "data, header = readdlm(features_csv, ',', header=true)\n",
    "df = DataFrame(data, vec(header))\n",
    "for col in names(df)\n",
    "    println(col)\n",
    "end"
   ]
  },
  {
   "cell_type": "code",
   "execution_count": 3,
   "metadata": {},
   "outputs": [
    {
     "data": {
      "text/html": [
       "<div><div style = \"float: left;\"><span>298812×26 DataFrame</span></div><div style = \"float: right;\"><span style = \"font-style: italic;\">298787 rows omitted</span></div><div style = \"clear: both;\"></div></div><div class = \"data-frame\" style = \"overflow-x: scroll;\"><table class = \"data-frame\" style = \"margin-bottom: 6px;\"><thead><tr class = \"header\"><th class = \"rowNumber\" style = \"font-weight: bold; text-align: right;\">Row</th><th style = \"text-align: left;\">CountSettlement</th><th style = \"text-align: left;\">CountCity</th><th style = \"text-align: left;\">CountRoad</th><th style = \"text-align: left;\">SumWoodDiceWeight</th><th style = \"text-align: left;\">SumBrickDiceWeight</th><th style = \"text-align: left;\">SumPastureDiceWeight</th><th style = \"text-align: left;\">SumStoneDiceWeight</th><th style = \"text-align: left;\">SumGrainDiceWeight</th><th style = \"text-align: left;\">CountPortWood</th><th style = \"text-align: left;\">CountPortBrick</th><th style = \"text-align: left;\">CountPortPasture</th><th style = \"text-align: left;\">CountPortStone</th><th style = \"text-align: left;\">CountPortGrain</th><th style = \"text-align: left;\">CountTotalWood</th><th style = \"text-align: left;\">CountTotalBrick</th><th style = \"text-align: left;\">CountTotalPasture</th><th style = \"text-align: left;\">CountTotalStone</th><th style = \"text-align: left;\">CountTotalGrain</th><th style = \"text-align: left;\">CountDevCardsKnight</th><th style = \"text-align: left;\">CountDevCardsMonopoly</th><th style = \"text-align: left;\">CountDevCardsYearOfPlenty</th><th style = \"text-align: left;\">CountDevCardsRoadBuilding</th><th style = \"text-align: left;\">CountDevCardsVictoryPoint</th><th style = \"text-align: left;\">HasLargestArmy</th><th style = \"text-align: left;\">HasLongestRoad</th><th style = \"text-align: left;\">WonGame</th></tr><tr class = \"subheader headerLastRow\"><th class = \"rowNumber\" style = \"font-weight: bold; text-align: right;\"></th><th title = \"Float64\" style = \"text-align: left;\">Float64</th><th title = \"Float64\" style = \"text-align: left;\">Float64</th><th title = \"Float64\" style = \"text-align: left;\">Float64</th><th title = \"Float64\" style = \"text-align: left;\">Float64</th><th title = \"Float64\" style = \"text-align: left;\">Float64</th><th title = \"Float64\" style = \"text-align: left;\">Float64</th><th title = \"Float64\" style = \"text-align: left;\">Float64</th><th title = \"Float64\" style = \"text-align: left;\">Float64</th><th title = \"Float64\" style = \"text-align: left;\">Float64</th><th title = \"Float64\" style = \"text-align: left;\">Float64</th><th title = \"Float64\" style = \"text-align: left;\">Float64</th><th title = \"Float64\" style = \"text-align: left;\">Float64</th><th title = \"Float64\" style = \"text-align: left;\">Float64</th><th title = \"Float64\" style = \"text-align: left;\">Float64</th><th title = \"Float64\" style = \"text-align: left;\">Float64</th><th title = \"Float64\" style = \"text-align: left;\">Float64</th><th title = \"Float64\" style = \"text-align: left;\">Float64</th><th title = \"Float64\" style = \"text-align: left;\">Float64</th><th title = \"Float64\" style = \"text-align: left;\">Float64</th><th title = \"Float64\" style = \"text-align: left;\">Float64</th><th title = \"Float64\" style = \"text-align: left;\">Float64</th><th title = \"Float64\" style = \"text-align: left;\">Float64</th><th title = \"Float64\" style = \"text-align: left;\">Float64</th><th title = \"Float64\" style = \"text-align: left;\">Float64</th><th title = \"Float64\" style = \"text-align: left;\">Float64</th><th title = \"Float64\" style = \"text-align: left;\">Float64</th></tr></thead><tbody><tr><td class = \"rowNumber\" style = \"font-weight: bold; text-align: right;\">1</td><td style = \"text-align: right;\">3.0</td><td style = \"text-align: right;\">0.0</td><td style = \"text-align: right;\">14.0</td><td style = \"text-align: right;\">7.0</td><td style = \"text-align: right;\">13.0</td><td style = \"text-align: right;\">9.0</td><td style = \"text-align: right;\">0.0</td><td style = \"text-align: right;\">1.0</td><td style = \"text-align: right;\">0.0</td><td style = \"text-align: right;\">0.0</td><td style = \"text-align: right;\">0.0</td><td style = \"text-align: right;\">0.0</td><td style = \"text-align: right;\">0.0</td><td style = \"text-align: right;\">20.0</td><td style = \"text-align: right;\">20.0</td><td style = \"text-align: right;\">14.0</td><td style = \"text-align: right;\">2.0</td><td style = \"text-align: right;\">6.0</td><td style = \"text-align: right;\">1.0</td><td style = \"text-align: right;\">0.0</td><td style = \"text-align: right;\">0.0</td><td style = \"text-align: right;\">0.0</td><td style = \"text-align: right;\">0.0</td><td style = \"text-align: right;\">0.0</td><td style = \"text-align: right;\">0.0</td><td style = \"text-align: right;\">0.0</td></tr><tr><td class = \"rowNumber\" style = \"font-weight: bold; text-align: right;\">2</td><td style = \"text-align: right;\">1.0</td><td style = \"text-align: right;\">1.0</td><td style = \"text-align: right;\">5.0</td><td style = \"text-align: right;\">0.0</td><td style = \"text-align: right;\">4.0</td><td style = \"text-align: right;\">0.0</td><td style = \"text-align: right;\">4.0</td><td style = \"text-align: right;\">0.0</td><td style = \"text-align: right;\">0.0</td><td style = \"text-align: right;\">0.0</td><td style = \"text-align: right;\">0.0</td><td style = \"text-align: right;\">0.0</td><td style = \"text-align: right;\">0.0</td><td style = \"text-align: right;\">10.0</td><td style = \"text-align: right;\">10.0</td><td style = \"text-align: right;\">4.0</td><td style = \"text-align: right;\">7.0</td><td style = \"text-align: right;\">5.0</td><td style = \"text-align: right;\">1.0</td><td style = \"text-align: right;\">0.0</td><td style = \"text-align: right;\">0.0</td><td style = \"text-align: right;\">0.0</td><td style = \"text-align: right;\">0.0</td><td style = \"text-align: right;\">0.0</td><td style = \"text-align: right;\">0.0</td><td style = \"text-align: right;\">0.0</td></tr><tr><td class = \"rowNumber\" style = \"font-weight: bold; text-align: right;\">3</td><td style = \"text-align: right;\">2.0</td><td style = \"text-align: right;\">3.0</td><td style = \"text-align: right;\">14.0</td><td style = \"text-align: right;\">8.0</td><td style = \"text-align: right;\">4.0</td><td style = \"text-align: right;\">7.0</td><td style = \"text-align: right;\">10.0</td><td style = \"text-align: right;\">12.0</td><td style = \"text-align: right;\">0.0</td><td style = \"text-align: right;\">0.0</td><td style = \"text-align: right;\">0.0</td><td style = \"text-align: right;\">0.0</td><td style = \"text-align: right;\">0.0</td><td style = \"text-align: right;\">16.0</td><td style = \"text-align: right;\">16.0</td><td style = \"text-align: right;\">5.0</td><td style = \"text-align: right;\">13.0</td><td style = \"text-align: right;\">13.0</td><td style = \"text-align: right;\">2.0</td><td style = \"text-align: right;\">0.0</td><td style = \"text-align: right;\">0.0</td><td style = \"text-align: right;\">0.0</td><td style = \"text-align: right;\">2.0</td><td style = \"text-align: right;\">0.0</td><td style = \"text-align: right;\">1.0</td><td style = \"text-align: right;\">1.0</td></tr><tr><td class = \"rowNumber\" style = \"font-weight: bold; text-align: right;\">4</td><td style = \"text-align: right;\">2.0</td><td style = \"text-align: right;\">0.0</td><td style = \"text-align: right;\">4.0</td><td style = \"text-align: right;\">2.0</td><td style = \"text-align: right;\">0.0</td><td style = \"text-align: right;\">0.0</td><td style = \"text-align: right;\">0.0</td><td style = \"text-align: right;\">0.0</td><td style = \"text-align: right;\">1.0</td><td style = \"text-align: right;\">0.0</td><td style = \"text-align: right;\">0.0</td><td style = \"text-align: right;\">0.0</td><td style = \"text-align: right;\">0.0</td><td style = \"text-align: right;\">6.0</td><td style = \"text-align: right;\">6.0</td><td style = \"text-align: right;\">2.0</td><td style = \"text-align: right;\">1.0</td><td style = \"text-align: right;\">2.0</td><td style = \"text-align: right;\">0.0</td><td style = \"text-align: right;\">0.0</td><td style = \"text-align: right;\">0.0</td><td style = \"text-align: right;\">0.0</td><td style = \"text-align: right;\">0.0</td><td style = \"text-align: right;\">0.0</td><td style = \"text-align: right;\">0.0</td><td style = \"text-align: right;\">0.0</td></tr><tr><td class = \"rowNumber\" style = \"font-weight: bold; text-align: right;\">5</td><td style = \"text-align: right;\">2.0</td><td style = \"text-align: right;\">0.0</td><td style = \"text-align: right;\">14.0</td><td style = \"text-align: right;\">7.0</td><td style = \"text-align: right;\">0.0</td><td style = \"text-align: right;\">9.0</td><td style = \"text-align: right;\">2.0</td><td style = \"text-align: right;\">0.0</td><td style = \"text-align: right;\">0.0</td><td style = \"text-align: right;\">0.0</td><td style = \"text-align: right;\">0.0</td><td style = \"text-align: right;\">0.0</td><td style = \"text-align: right;\">0.0</td><td style = \"text-align: right;\">17.0</td><td style = \"text-align: right;\">17.0</td><td style = \"text-align: right;\">5.0</td><td style = \"text-align: right;\">1.0</td><td style = \"text-align: right;\">2.0</td><td style = \"text-align: right;\">0.0</td><td style = \"text-align: right;\">0.0</td><td style = \"text-align: right;\">0.0</td><td style = \"text-align: right;\">0.0</td><td style = \"text-align: right;\">0.0</td><td style = \"text-align: right;\">0.0</td><td style = \"text-align: right;\">0.0</td><td style = \"text-align: right;\">0.0</td></tr><tr><td class = \"rowNumber\" style = \"font-weight: bold; text-align: right;\">6</td><td style = \"text-align: right;\">2.0</td><td style = \"text-align: right;\">0.0</td><td style = \"text-align: right;\">14.0</td><td style = \"text-align: right;\">7.0</td><td style = \"text-align: right;\">8.0</td><td style = \"text-align: right;\">0.0</td><td style = \"text-align: right;\">5.0</td><td style = \"text-align: right;\">0.0</td><td style = \"text-align: right;\">0.0</td><td style = \"text-align: right;\">0.0</td><td style = \"text-align: right;\">0.0</td><td style = \"text-align: right;\">1.0</td><td style = \"text-align: right;\">0.0</td><td style = \"text-align: right;\">25.0</td><td style = \"text-align: right;\">25.0</td><td style = \"text-align: right;\">3.0</td><td style = \"text-align: right;\">8.0</td><td style = \"text-align: right;\">2.0</td><td style = \"text-align: right;\">0.0</td><td style = \"text-align: right;\">0.0</td><td style = \"text-align: right;\">0.0</td><td style = \"text-align: right;\">0.0</td><td style = \"text-align: right;\">0.0</td><td style = \"text-align: right;\">0.0</td><td style = \"text-align: right;\">0.0</td><td style = \"text-align: right;\">0.0</td></tr><tr><td class = \"rowNumber\" style = \"font-weight: bold; text-align: right;\">7</td><td style = \"text-align: right;\">2.0</td><td style = \"text-align: right;\">0.0</td><td style = \"text-align: right;\">6.0</td><td style = \"text-align: right;\">0.0</td><td style = \"text-align: right;\">5.0</td><td style = \"text-align: right;\">8.0</td><td style = \"text-align: right;\">0.0</td><td style = \"text-align: right;\">0.0</td><td style = \"text-align: right;\">0.0</td><td style = \"text-align: right;\">0.0</td><td style = \"text-align: right;\">0.0</td><td style = \"text-align: right;\">0.0</td><td style = \"text-align: right;\">1.0</td><td style = \"text-align: right;\">9.0</td><td style = \"text-align: right;\">9.0</td><td style = \"text-align: right;\">4.0</td><td style = \"text-align: right;\">0.0</td><td style = \"text-align: right;\">2.0</td><td style = \"text-align: right;\">0.0</td><td style = \"text-align: right;\">0.0</td><td style = \"text-align: right;\">0.0</td><td style = \"text-align: right;\">0.0</td><td style = \"text-align: right;\">0.0</td><td style = \"text-align: right;\">0.0</td><td style = \"text-align: right;\">0.0</td><td style = \"text-align: right;\">0.0</td></tr><tr><td class = \"rowNumber\" style = \"font-weight: bold; text-align: right;\">8</td><td style = \"text-align: right;\">2.0</td><td style = \"text-align: right;\">0.0</td><td style = \"text-align: right;\">13.0</td><td style = \"text-align: right;\">4.0</td><td style = \"text-align: right;\">4.0</td><td style = \"text-align: right;\">2.0</td><td style = \"text-align: right;\">2.0</td><td style = \"text-align: right;\">0.0</td><td style = \"text-align: right;\">0.0</td><td style = \"text-align: right;\">0.0</td><td style = \"text-align: right;\">0.0</td><td style = \"text-align: right;\">0.0</td><td style = \"text-align: right;\">0.0</td><td style = \"text-align: right;\">17.0</td><td style = \"text-align: right;\">17.0</td><td style = \"text-align: right;\">6.0</td><td style = \"text-align: right;\">1.0</td><td style = \"text-align: right;\">2.0</td><td style = \"text-align: right;\">0.0</td><td style = \"text-align: right;\">0.0</td><td style = \"text-align: right;\">0.0</td><td style = \"text-align: right;\">0.0</td><td style = \"text-align: right;\">0.0</td><td style = \"text-align: right;\">0.0</td><td style = \"text-align: right;\">1.0</td><td style = \"text-align: right;\">0.0</td></tr><tr><td class = \"rowNumber\" style = \"font-weight: bold; text-align: right;\">9</td><td style = \"text-align: right;\">1.0</td><td style = \"text-align: right;\">1.0</td><td style = \"text-align: right;\">14.0</td><td style = \"text-align: right;\">4.0</td><td style = \"text-align: right;\">4.0</td><td style = \"text-align: right;\">0.0</td><td style = \"text-align: right;\">12.0</td><td style = \"text-align: right;\">0.0</td><td style = \"text-align: right;\">0.0</td><td style = \"text-align: right;\">0.0</td><td style = \"text-align: right;\">0.0</td><td style = \"text-align: right;\">0.0</td><td style = \"text-align: right;\">0.0</td><td style = \"text-align: right;\">20.0</td><td style = \"text-align: right;\">20.0</td><td style = \"text-align: right;\">3.0</td><td style = \"text-align: right;\">24.0</td><td style = \"text-align: right;\">5.0</td><td style = \"text-align: right;\">1.0</td><td style = \"text-align: right;\">0.0</td><td style = \"text-align: right;\">0.0</td><td style = \"text-align: right;\">0.0</td><td style = \"text-align: right;\">0.0</td><td style = \"text-align: right;\">0.0</td><td style = \"text-align: right;\">0.0</td><td style = \"text-align: right;\">0.0</td></tr><tr><td class = \"rowNumber\" style = \"font-weight: bold; text-align: right;\">10</td><td style = \"text-align: right;\">0.0</td><td style = \"text-align: right;\">3.0</td><td style = \"text-align: right;\">8.0</td><td style = \"text-align: right;\">0.0</td><td style = \"text-align: right;\">0.0</td><td style = \"text-align: right;\">8.0</td><td style = \"text-align: right;\">4.0</td><td style = \"text-align: right;\">8.0</td><td style = \"text-align: right;\">0.0</td><td style = \"text-align: right;\">1.0</td><td style = \"text-align: right;\">1.0</td><td style = \"text-align: right;\">0.0</td><td style = \"text-align: right;\">0.0</td><td style = \"text-align: right;\">9.0</td><td style = \"text-align: right;\">9.0</td><td style = \"text-align: right;\">15.0</td><td style = \"text-align: right;\">18.0</td><td style = \"text-align: right;\">16.0</td><td style = \"text-align: right;\">4.0</td><td style = \"text-align: right;\">2.0</td><td style = \"text-align: right;\">1.0</td><td style = \"text-align: right;\">2.0</td><td style = \"text-align: right;\">3.0</td><td style = \"text-align: right;\">1.0</td><td style = \"text-align: right;\">0.0</td><td style = \"text-align: right;\">1.0</td></tr><tr><td class = \"rowNumber\" style = \"font-weight: bold; text-align: right;\">11</td><td style = \"text-align: right;\">2.0</td><td style = \"text-align: right;\">0.0</td><td style = \"text-align: right;\">14.0</td><td style = \"text-align: right;\">2.0</td><td style = \"text-align: right;\">4.0</td><td style = \"text-align: right;\">0.0</td><td style = \"text-align: right;\">0.0</td><td style = \"text-align: right;\">0.0</td><td style = \"text-align: right;\">1.0</td><td style = \"text-align: right;\">0.0</td><td style = \"text-align: right;\">0.0</td><td style = \"text-align: right;\">0.0</td><td style = \"text-align: right;\">0.0</td><td style = \"text-align: right;\">21.0</td><td style = \"text-align: right;\">21.0</td><td style = \"text-align: right;\">3.0</td><td style = \"text-align: right;\">2.0</td><td style = \"text-align: right;\">4.0</td><td style = \"text-align: right;\">0.0</td><td style = \"text-align: right;\">0.0</td><td style = \"text-align: right;\">0.0</td><td style = \"text-align: right;\">0.0</td><td style = \"text-align: right;\">1.0</td><td style = \"text-align: right;\">0.0</td><td style = \"text-align: right;\">1.0</td><td style = \"text-align: right;\">0.0</td></tr><tr><td class = \"rowNumber\" style = \"font-weight: bold; text-align: right;\">12</td><td style = \"text-align: right;\">3.0</td><td style = \"text-align: right;\">0.0</td><td style = \"text-align: right;\">7.0</td><td style = \"text-align: right;\">8.0</td><td style = \"text-align: right;\">0.0</td><td style = \"text-align: right;\">0.0</td><td style = \"text-align: right;\">0.0</td><td style = \"text-align: right;\">4.0</td><td style = \"text-align: right;\">0.0</td><td style = \"text-align: right;\">0.0</td><td style = \"text-align: right;\">0.0</td><td style = \"text-align: right;\">1.0</td><td style = \"text-align: right;\">0.0</td><td style = \"text-align: right;\">10.0</td><td style = \"text-align: right;\">10.0</td><td style = \"text-align: right;\">6.0</td><td style = \"text-align: right;\">2.0</td><td style = \"text-align: right;\">9.0</td><td style = \"text-align: right;\">1.0</td><td style = \"text-align: right;\">0.0</td><td style = \"text-align: right;\">0.0</td><td style = \"text-align: right;\">0.0</td><td style = \"text-align: right;\">0.0</td><td style = \"text-align: right;\">0.0</td><td style = \"text-align: right;\">0.0</td><td style = \"text-align: right;\">0.0</td></tr><tr><td class = \"rowNumber\" style = \"font-weight: bold; text-align: right;\">13</td><td style = \"text-align: right;\">2.0</td><td style = \"text-align: right;\">0.0</td><td style = \"text-align: right;\">14.0</td><td style = \"text-align: right;\">0.0</td><td style = \"text-align: right;\">5.0</td><td style = \"text-align: right;\">6.0</td><td style = \"text-align: right;\">5.0</td><td style = \"text-align: right;\">0.0</td><td style = \"text-align: right;\">0.0</td><td style = \"text-align: right;\">0.0</td><td style = \"text-align: right;\">0.0</td><td style = \"text-align: right;\">0.0</td><td style = \"text-align: right;\">0.0</td><td style = \"text-align: right;\">19.0</td><td style = \"text-align: right;\">19.0</td><td style = \"text-align: right;\">9.0</td><td style = \"text-align: right;\">10.0</td><td style = \"text-align: right;\">7.0</td><td style = \"text-align: right;\">1.0</td><td style = \"text-align: right;\">1.0</td><td style = \"text-align: right;\">0.0</td><td style = \"text-align: right;\">0.0</td><td style = \"text-align: right;\">1.0</td><td style = \"text-align: right;\">0.0</td><td style = \"text-align: right;\">0.0</td><td style = \"text-align: right;\">0.0</td></tr><tr><td style = \"text-align: right;\">&vellip;</td><td style = \"text-align: right;\">&vellip;</td><td style = \"text-align: right;\">&vellip;</td><td style = \"text-align: right;\">&vellip;</td><td style = \"text-align: right;\">&vellip;</td><td style = \"text-align: right;\">&vellip;</td><td style = \"text-align: right;\">&vellip;</td><td style = \"text-align: right;\">&vellip;</td><td style = \"text-align: right;\">&vellip;</td><td style = \"text-align: right;\">&vellip;</td><td style = \"text-align: right;\">&vellip;</td><td style = \"text-align: right;\">&vellip;</td><td style = \"text-align: right;\">&vellip;</td><td style = \"text-align: right;\">&vellip;</td><td style = \"text-align: right;\">&vellip;</td><td style = \"text-align: right;\">&vellip;</td><td style = \"text-align: right;\">&vellip;</td><td style = \"text-align: right;\">&vellip;</td><td style = \"text-align: right;\">&vellip;</td><td style = \"text-align: right;\">&vellip;</td><td style = \"text-align: right;\">&vellip;</td><td style = \"text-align: right;\">&vellip;</td><td style = \"text-align: right;\">&vellip;</td><td style = \"text-align: right;\">&vellip;</td><td style = \"text-align: right;\">&vellip;</td><td style = \"text-align: right;\">&vellip;</td><td style = \"text-align: right;\">&vellip;</td></tr><tr><td class = \"rowNumber\" style = \"font-weight: bold; text-align: right;\">298801</td><td style = \"text-align: right;\">2.0</td><td style = \"text-align: right;\">0.0</td><td style = \"text-align: right;\">14.0</td><td style = \"text-align: right;\">4.0</td><td style = \"text-align: right;\">0.0</td><td style = \"text-align: right;\">0.0</td><td style = \"text-align: right;\">0.0</td><td style = \"text-align: right;\">2.0</td><td style = \"text-align: right;\">0.0</td><td style = \"text-align: right;\">1.0</td><td style = \"text-align: right;\">0.0</td><td style = \"text-align: right;\">0.0</td><td style = \"text-align: right;\">0.0</td><td style = \"text-align: right;\">16.0</td><td style = \"text-align: right;\">16.0</td><td style = \"text-align: right;\">6.0</td><td style = \"text-align: right;\">3.0</td><td style = \"text-align: right;\">6.0</td><td style = \"text-align: right;\">2.0</td><td style = \"text-align: right;\">0.0</td><td style = \"text-align: right;\">0.0</td><td style = \"text-align: right;\">0.0</td><td style = \"text-align: right;\">1.0</td><td style = \"text-align: right;\">0.0</td><td style = \"text-align: right;\">0.0</td><td style = \"text-align: right;\">0.0</td></tr><tr><td class = \"rowNumber\" style = \"font-weight: bold; text-align: right;\">298802</td><td style = \"text-align: right;\">2.0</td><td style = \"text-align: right;\">0.0</td><td style = \"text-align: right;\">14.0</td><td style = \"text-align: right;\">10.0</td><td style = \"text-align: right;\">0.0</td><td style = \"text-align: right;\">0.0</td><td style = \"text-align: right;\">5.0</td><td style = \"text-align: right;\">0.0</td><td style = \"text-align: right;\">0.0</td><td style = \"text-align: right;\">0.0</td><td style = \"text-align: right;\">1.0</td><td style = \"text-align: right;\">0.0</td><td style = \"text-align: right;\">0.0</td><td style = \"text-align: right;\">16.0</td><td style = \"text-align: right;\">16.0</td><td style = \"text-align: right;\">5.0</td><td style = \"text-align: right;\">5.0</td><td style = \"text-align: right;\">4.0</td><td style = \"text-align: right;\">3.0</td><td style = \"text-align: right;\">0.0</td><td style = \"text-align: right;\">0.0</td><td style = \"text-align: right;\">0.0</td><td style = \"text-align: right;\">0.0</td><td style = \"text-align: right;\">0.0</td><td style = \"text-align: right;\">0.0</td><td style = \"text-align: right;\">0.0</td></tr><tr><td class = \"rowNumber\" style = \"font-weight: bold; text-align: right;\">298803</td><td style = \"text-align: right;\">2.0</td><td style = \"text-align: right;\">0.0</td><td style = \"text-align: right;\">9.0</td><td style = \"text-align: right;\">0.0</td><td style = \"text-align: right;\">11.0</td><td style = \"text-align: right;\">0.0</td><td style = \"text-align: right;\">0.0</td><td style = \"text-align: right;\">0.0</td><td style = \"text-align: right;\">0.0</td><td style = \"text-align: right;\">0.0</td><td style = \"text-align: right;\">0.0</td><td style = \"text-align: right;\">0.0</td><td style = \"text-align: right;\">0.0</td><td style = \"text-align: right;\">17.0</td><td style = \"text-align: right;\">17.0</td><td style = \"text-align: right;\">4.0</td><td style = \"text-align: right;\">2.0</td><td style = \"text-align: right;\">4.0</td><td style = \"text-align: right;\">1.0</td><td style = \"text-align: right;\">0.0</td><td style = \"text-align: right;\">0.0</td><td style = \"text-align: right;\">0.0</td><td style = \"text-align: right;\">0.0</td><td style = \"text-align: right;\">0.0</td><td style = \"text-align: right;\">0.0</td><td style = \"text-align: right;\">0.0</td></tr><tr><td class = \"rowNumber\" style = \"font-weight: bold; text-align: right;\">298804</td><td style = \"text-align: right;\">4.0</td><td style = \"text-align: right;\">0.0</td><td style = \"text-align: right;\">14.0</td><td style = \"text-align: right;\">11.0</td><td style = \"text-align: right;\">5.0</td><td style = \"text-align: right;\">15.0</td><td style = \"text-align: right;\">5.0</td><td style = \"text-align: right;\">5.0</td><td style = \"text-align: right;\">0.0</td><td style = \"text-align: right;\">0.0</td><td style = \"text-align: right;\">0.0</td><td style = \"text-align: right;\">0.0</td><td style = \"text-align: right;\">0.0</td><td style = \"text-align: right;\">21.0</td><td style = \"text-align: right;\">21.0</td><td style = \"text-align: right;\">14.0</td><td style = \"text-align: right;\">6.0</td><td style = \"text-align: right;\">9.0</td><td style = \"text-align: right;\">5.0</td><td style = \"text-align: right;\">0.0</td><td style = \"text-align: right;\">1.0</td><td style = \"text-align: right;\">0.0</td><td style = \"text-align: right;\">2.0</td><td style = \"text-align: right;\">1.0</td><td style = \"text-align: right;\">1.0</td><td style = \"text-align: right;\">1.0</td></tr><tr><td class = \"rowNumber\" style = \"font-weight: bold; text-align: right;\">298805</td><td style = \"text-align: right;\">2.0</td><td style = \"text-align: right;\">0.0</td><td style = \"text-align: right;\">6.0</td><td style = \"text-align: right;\">6.0</td><td style = \"text-align: right;\">0.0</td><td style = \"text-align: right;\">0.0</td><td style = \"text-align: right;\">0.0</td><td style = \"text-align: right;\">2.0</td><td style = \"text-align: right;\">0.0</td><td style = \"text-align: right;\">0.0</td><td style = \"text-align: right;\">0.0</td><td style = \"text-align: right;\">0.0</td><td style = \"text-align: right;\">0.0</td><td style = \"text-align: right;\">9.0</td><td style = \"text-align: right;\">9.0</td><td style = \"text-align: right;\">2.0</td><td style = \"text-align: right;\">0.0</td><td style = \"text-align: right;\">7.0</td><td style = \"text-align: right;\">0.0</td><td style = \"text-align: right;\">0.0</td><td style = \"text-align: right;\">0.0</td><td style = \"text-align: right;\">0.0</td><td style = \"text-align: right;\">0.0</td><td style = \"text-align: right;\">0.0</td><td style = \"text-align: right;\">0.0</td><td style = \"text-align: right;\">0.0</td></tr><tr><td class = \"rowNumber\" style = \"font-weight: bold; text-align: right;\">298806</td><td style = \"text-align: right;\">5.0</td><td style = \"text-align: right;\">0.0</td><td style = \"text-align: right;\">13.0</td><td style = \"text-align: right;\">0.0</td><td style = \"text-align: right;\">11.0</td><td style = \"text-align: right;\">11.0</td><td style = \"text-align: right;\">0.0</td><td style = \"text-align: right;\">9.0</td><td style = \"text-align: right;\">0.0</td><td style = \"text-align: right;\">0.0</td><td style = \"text-align: right;\">0.0</td><td style = \"text-align: right;\">1.0</td><td style = \"text-align: right;\">0.0</td><td style = \"text-align: right;\">21.0</td><td style = \"text-align: right;\">21.0</td><td style = \"text-align: right;\">8.0</td><td style = \"text-align: right;\">0.0</td><td style = \"text-align: right;\">5.0</td><td style = \"text-align: right;\">0.0</td><td style = \"text-align: right;\">0.0</td><td style = \"text-align: right;\">0.0</td><td style = \"text-align: right;\">0.0</td><td style = \"text-align: right;\">0.0</td><td style = \"text-align: right;\">0.0</td><td style = \"text-align: right;\">0.0</td><td style = \"text-align: right;\">0.0</td></tr><tr><td class = \"rowNumber\" style = \"font-weight: bold; text-align: right;\">298807</td><td style = \"text-align: right;\">4.0</td><td style = \"text-align: right;\">1.0</td><td style = \"text-align: right;\">11.0</td><td style = \"text-align: right;\">0.0</td><td style = \"text-align: right;\">4.0</td><td style = \"text-align: right;\">11.0</td><td style = \"text-align: right;\">15.0</td><td style = \"text-align: right;\">10.0</td><td style = \"text-align: right;\">0.0</td><td style = \"text-align: right;\">0.0</td><td style = \"text-align: right;\">0.0</td><td style = \"text-align: right;\">0.0</td><td style = \"text-align: right;\">0.0</td><td style = \"text-align: right;\">17.0</td><td style = \"text-align: right;\">17.0</td><td style = \"text-align: right;\">6.0</td><td style = \"text-align: right;\">7.0</td><td style = \"text-align: right;\">11.0</td><td style = \"text-align: right;\">4.0</td><td style = \"text-align: right;\">0.0</td><td style = \"text-align: right;\">0.0</td><td style = \"text-align: right;\">0.0</td><td style = \"text-align: right;\">0.0</td><td style = \"text-align: right;\">1.0</td><td style = \"text-align: right;\">1.0</td><td style = \"text-align: right;\">1.0</td></tr><tr><td class = \"rowNumber\" style = \"font-weight: bold; text-align: right;\">298808</td><td style = \"text-align: right;\">3.0</td><td style = \"text-align: right;\">0.0</td><td style = \"text-align: right;\">9.0</td><td style = \"text-align: right;\">10.0</td><td style = \"text-align: right;\">0.0</td><td style = \"text-align: right;\">8.0</td><td style = \"text-align: right;\">0.0</td><td style = \"text-align: right;\">6.0</td><td style = \"text-align: right;\">0.0</td><td style = \"text-align: right;\">0.0</td><td style = \"text-align: right;\">0.0</td><td style = \"text-align: right;\">0.0</td><td style = \"text-align: right;\">0.0</td><td style = \"text-align: right;\">12.0</td><td style = \"text-align: right;\">12.0</td><td style = \"text-align: right;\">19.0</td><td style = \"text-align: right;\">0.0</td><td style = \"text-align: right;\">8.0</td><td style = \"text-align: right;\">0.0</td><td style = \"text-align: right;\">0.0</td><td style = \"text-align: right;\">0.0</td><td style = \"text-align: right;\">0.0</td><td style = \"text-align: right;\">0.0</td><td style = \"text-align: right;\">0.0</td><td style = \"text-align: right;\">0.0</td><td style = \"text-align: right;\">0.0</td></tr><tr><td class = \"rowNumber\" style = \"font-weight: bold; text-align: right;\">298809</td><td style = \"text-align: right;\">0.0</td><td style = \"text-align: right;\">2.0</td><td style = \"text-align: right;\">14.0</td><td style = \"text-align: right;\">0.0</td><td style = \"text-align: right;\">4.0</td><td style = \"text-align: right;\">0.0</td><td style = \"text-align: right;\">8.0</td><td style = \"text-align: right;\">6.0</td><td style = \"text-align: right;\">0.0</td><td style = \"text-align: right;\">0.0</td><td style = \"text-align: right;\">0.0</td><td style = \"text-align: right;\">0.0</td><td style = \"text-align: right;\">0.0</td><td style = \"text-align: right;\">14.0</td><td style = \"text-align: right;\">14.0</td><td style = \"text-align: right;\">8.0</td><td style = \"text-align: right;\">14.0</td><td style = \"text-align: right;\">18.0</td><td style = \"text-align: right;\">7.0</td><td style = \"text-align: right;\">1.0</td><td style = \"text-align: right;\">1.0</td><td style = \"text-align: right;\">0.0</td><td style = \"text-align: right;\">3.0</td><td style = \"text-align: right;\">1.0</td><td style = \"text-align: right;\">1.0</td><td style = \"text-align: right;\">1.0</td></tr><tr><td class = \"rowNumber\" style = \"font-weight: bold; text-align: right;\">298810</td><td style = \"text-align: right;\">1.0</td><td style = \"text-align: right;\">1.0</td><td style = \"text-align: right;\">14.0</td><td style = \"text-align: right;\">0.0</td><td style = \"text-align: right;\">14.0</td><td style = \"text-align: right;\">2.0</td><td style = \"text-align: right;\">8.0</td><td style = \"text-align: right;\">0.0</td><td style = \"text-align: right;\">0.0</td><td style = \"text-align: right;\">0.0</td><td style = \"text-align: right;\">0.0</td><td style = \"text-align: right;\">0.0</td><td style = \"text-align: right;\">1.0</td><td style = \"text-align: right;\">26.0</td><td style = \"text-align: right;\">26.0</td><td style = \"text-align: right;\">5.0</td><td style = \"text-align: right;\">13.0</td><td style = \"text-align: right;\">6.0</td><td style = \"text-align: right;\">2.0</td><td style = \"text-align: right;\">0.0</td><td style = \"text-align: right;\">0.0</td><td style = \"text-align: right;\">0.0</td><td style = \"text-align: right;\">2.0</td><td style = \"text-align: right;\">0.0</td><td style = \"text-align: right;\">0.0</td><td style = \"text-align: right;\">0.0</td></tr><tr><td class = \"rowNumber\" style = \"font-weight: bold; text-align: right;\">298811</td><td style = \"text-align: right;\">4.0</td><td style = \"text-align: right;\">0.0</td><td style = \"text-align: right;\">10.0</td><td style = \"text-align: right;\">4.0</td><td style = \"text-align: right;\">0.0</td><td style = \"text-align: right;\">8.0</td><td style = \"text-align: right;\">0.0</td><td style = \"text-align: right;\">6.0</td><td style = \"text-align: right;\">0.0</td><td style = \"text-align: right;\">1.0</td><td style = \"text-align: right;\">0.0</td><td style = \"text-align: right;\">0.0</td><td style = \"text-align: right;\">0.0</td><td style = \"text-align: right;\">14.0</td><td style = \"text-align: right;\">14.0</td><td style = \"text-align: right;\">15.0</td><td style = \"text-align: right;\">8.0</td><td style = \"text-align: right;\">13.0</td><td style = \"text-align: right;\">5.0</td><td style = \"text-align: right;\">1.0</td><td style = \"text-align: right;\">1.0</td><td style = \"text-align: right;\">1.0</td><td style = \"text-align: right;\">0.0</td><td style = \"text-align: right;\">0.0</td><td style = \"text-align: right;\">0.0</td><td style = \"text-align: right;\">0.0</td></tr><tr><td class = \"rowNumber\" style = \"font-weight: bold; text-align: right;\">298812</td><td style = \"text-align: right;\">2.0</td><td style = \"text-align: right;\">0.0</td><td style = \"text-align: right;\">14.0</td><td style = \"text-align: right;\">10.0</td><td style = \"text-align: right;\">0.0</td><td style = \"text-align: right;\">0.0</td><td style = \"text-align: right;\">0.0</td><td style = \"text-align: right;\">5.0</td><td style = \"text-align: right;\">0.0</td><td style = \"text-align: right;\">0.0</td><td style = \"text-align: right;\">0.0</td><td style = \"text-align: right;\">0.0</td><td style = \"text-align: right;\">0.0</td><td style = \"text-align: right;\">16.0</td><td style = \"text-align: right;\">16.0</td><td style = \"text-align: right;\">4.0</td><td style = \"text-align: right;\">3.0</td><td style = \"text-align: right;\">11.0</td><td style = \"text-align: right;\">0.0</td><td style = \"text-align: right;\">0.0</td><td style = \"text-align: right;\">0.0</td><td style = \"text-align: right;\">1.0</td><td style = \"text-align: right;\">0.0</td><td style = \"text-align: right;\">0.0</td><td style = \"text-align: right;\">0.0</td><td style = \"text-align: right;\">0.0</td></tr></tbody></table></div>"
      ],
      "text/latex": [
       "\\begin{tabular}{r|ccccccc}\n",
       "\t& CountSettlement & CountCity & CountRoad & SumWoodDiceWeight & SumBrickDiceWeight & SumPastureDiceWeight & \\\\\n",
       "\t\\hline\n",
       "\t& Float64 & Float64 & Float64 & Float64 & Float64 & Float64 & \\\\\n",
       "\t\\hline\n",
       "\t1 & 3.0 & 0.0 & 14.0 & 7.0 & 13.0 & 9.0 & $\\dots$ \\\\\n",
       "\t2 & 1.0 & 1.0 & 5.0 & 0.0 & 4.0 & 0.0 & $\\dots$ \\\\\n",
       "\t3 & 2.0 & 3.0 & 14.0 & 8.0 & 4.0 & 7.0 & $\\dots$ \\\\\n",
       "\t4 & 2.0 & 0.0 & 4.0 & 2.0 & 0.0 & 0.0 & $\\dots$ \\\\\n",
       "\t5 & 2.0 & 0.0 & 14.0 & 7.0 & 0.0 & 9.0 & $\\dots$ \\\\\n",
       "\t6 & 2.0 & 0.0 & 14.0 & 7.0 & 8.0 & 0.0 & $\\dots$ \\\\\n",
       "\t7 & 2.0 & 0.0 & 6.0 & 0.0 & 5.0 & 8.0 & $\\dots$ \\\\\n",
       "\t8 & 2.0 & 0.0 & 13.0 & 4.0 & 4.0 & 2.0 & $\\dots$ \\\\\n",
       "\t9 & 1.0 & 1.0 & 14.0 & 4.0 & 4.0 & 0.0 & $\\dots$ \\\\\n",
       "\t10 & 0.0 & 3.0 & 8.0 & 0.0 & 0.0 & 8.0 & $\\dots$ \\\\\n",
       "\t11 & 2.0 & 0.0 & 14.0 & 2.0 & 4.0 & 0.0 & $\\dots$ \\\\\n",
       "\t12 & 3.0 & 0.0 & 7.0 & 8.0 & 0.0 & 0.0 & $\\dots$ \\\\\n",
       "\t13 & 2.0 & 0.0 & 14.0 & 0.0 & 5.0 & 6.0 & $\\dots$ \\\\\n",
       "\t14 & 2.0 & 0.0 & 14.0 & 4.0 & 8.0 & 0.0 & $\\dots$ \\\\\n",
       "\t15 & 2.0 & 1.0 & 14.0 & 6.0 & 3.0 & 5.0 & $\\dots$ \\\\\n",
       "\t16 & 2.0 & 0.0 & 14.0 & 4.0 & 4.0 & 5.0 & $\\dots$ \\\\\n",
       "\t17 & 2.0 & 1.0 & 14.0 & 14.0 & 10.0 & 8.0 & $\\dots$ \\\\\n",
       "\t18 & 5.0 & 0.0 & 14.0 & 8.0 & 16.0 & 6.0 & $\\dots$ \\\\\n",
       "\t19 & 4.0 & 1.0 & 14.0 & 6.0 & 13.0 & 10.0 & $\\dots$ \\\\\n",
       "\t20 & 3.0 & 1.0 & 8.0 & 3.0 & 0.0 & 12.0 & $\\dots$ \\\\\n",
       "\t21 & 2.0 & 0.0 & 12.0 & 6.0 & 0.0 & 0.0 & $\\dots$ \\\\\n",
       "\t22 & 3.0 & 0.0 & 14.0 & 11.0 & 3.0 & 10.0 & $\\dots$ \\\\\n",
       "\t23 & 2.0 & 0.0 & 8.0 & 0.0 & 0.0 & 6.0 & $\\dots$ \\\\\n",
       "\t24 & 4.0 & 1.0 & 14.0 & 4.0 & 19.0 & 5.0 & $\\dots$ \\\\\n",
       "\t$\\dots$ & $\\dots$ & $\\dots$ & $\\dots$ & $\\dots$ & $\\dots$ & $\\dots$ &  \\\\\n",
       "\\end{tabular}\n"
      ],
      "text/plain": [
       "\u001b[1m298812×26 DataFrame\u001b[0m\n",
       "\u001b[1m    Row \u001b[0m│\u001b[1m CountSettlement \u001b[0m\u001b[1m CountCity \u001b[0m\u001b[1m CountRoad \u001b[0m\u001b[1m SumWoodDiceWeight \u001b[0m\u001b[1m SumBrickDi\u001b[0m ⋯\n",
       "        │\u001b[90m Float64         \u001b[0m\u001b[90m Float64   \u001b[0m\u001b[90m Float64   \u001b[0m\u001b[90m Float64           \u001b[0m\u001b[90m Float64   \u001b[0m ⋯\n",
       "────────┼───────────────────────────────────────────────────────────────────────\n",
       "      1 │             3.0        0.0       14.0                7.0             ⋯\n",
       "      2 │             1.0        1.0        5.0                0.0\n",
       "      3 │             2.0        3.0       14.0                8.0\n",
       "      4 │             2.0        0.0        4.0                2.0\n",
       "      5 │             2.0        0.0       14.0                7.0             ⋯\n",
       "      6 │             2.0        0.0       14.0                7.0\n",
       "      7 │             2.0        0.0        6.0                0.0\n",
       "      8 │             2.0        0.0       13.0                4.0\n",
       "   ⋮    │        ⋮             ⋮          ⋮              ⋮                  ⋮  ⋱\n",
       " 298806 │             5.0        0.0       13.0                0.0             ⋯\n",
       " 298807 │             4.0        1.0       11.0                0.0\n",
       " 298808 │             3.0        0.0        9.0               10.0\n",
       " 298809 │             0.0        2.0       14.0                0.0\n",
       " 298810 │             1.0        1.0       14.0                0.0             ⋯\n",
       " 298811 │             4.0        0.0       10.0                4.0\n",
       " 298812 │             2.0        0.0       14.0               10.0\n",
       "\u001b[36m                                              22 columns and 298797 rows omitted\u001b[0m"
      ]
     },
     "metadata": {},
     "output_type": "display_data"
    }
   ],
   "source": [
    "select!(df, Not([\n",
    "    :CountHandWood,\n",
    "    :CountHandBrick,\n",
    "    :CountHandPasture,\n",
    "    :CountHandStone,\n",
    "    :CountHandGrain,\n",
    "    :HasMostPoints,\n",
    "    :CountVictoryPoint\n",
    "    ]))"
   ]
  },
  {
   "cell_type": "code",
   "execution_count": 4,
   "metadata": {},
   "outputs": [],
   "source": [
    "\n",
    "\n",
    "coerce!(df, :WonGame => Multiclass{2})\n",
    "df = DFM.@transform(df, :WonGame)\n",
    "df, df_test = partition(df, 0.1, rng=123)\n",
    "\n",
    "y, X = unpack(df, ==(:WonGame));\n",
    "y_test, X_test = unpack(df_test, ==(:WonGame));"
   ]
  },
  {
   "cell_type": "code",
   "execution_count": 5,
   "metadata": {},
   "outputs": [
    {
     "data": {
      "text/plain": [
       "RandomForestClassifier(\n",
       "  n_trees = 30, \n",
       "  max_depth = 6, \n",
       "  min_gain = 0.0, \n",
       "  min_records = 2, \n",
       "  max_features = 0, \n",
       "  splitting_criterion = BetaML.Utils.gini, \n",
       "  β = 0.0, \n",
       "  rng = Random._GLOBAL_RNG())"
      ]
     },
     "metadata": {},
     "output_type": "display_data"
    }
   ],
   "source": [
    "function load_tree_model()\n",
    "    @load RandomForestClassifier pkg=BetaML verbosity=0\n",
    "end\n",
    "\n",
    "Tree = load_tree_model()\n",
    "tree = Base.invokelatest(Tree,\n",
    "    max_depth = 6,\n",
    "    min_gain = 0.0,\n",
    "    min_records = 2,\n",
    "    max_features = 0,\n",
    "    splitting_criterion = BetaML.Utils.gini)"
   ]
  },
  {
   "cell_type": "code",
   "execution_count": 6,
   "metadata": {},
   "outputs": [
    {
     "name": "stderr",
     "output_type": "stream",
     "text": [
      "┌ Info: Training machine(RandomForestClassifier(n_trees = 30, …), …).\n",
      "└ @ MLJBase /home/bryan/.julia/packages/MLJBase/7nGJF/src/machines.jl:499\n"
     ]
    },
    {
     "data": {
      "text/plain": [
       "trained Machine; caches model-specific representations of data\n",
       "  model: RandomForestClassifier(n_trees = 30, …)\n",
       "  args: \n",
       "    1:\tSource @815 ⏎ Table{AbstractVector{Continuous}}\n",
       "    2:\tSource @095 ⏎ AbstractVector{Multiclass{2}}\n"
      ]
     },
     "metadata": {},
     "output_type": "display_data"
    }
   ],
   "source": [
    "mach = machine(tree, X, y)\n",
    "Base.invokelatest(fit!, mach)\n"
   ]
  },
  {
   "cell_type": "code",
   "execution_count": 7,
   "metadata": {},
   "outputs": [
    {
     "name": "stdout",
     "output_type": "stream",
     "text": [
      "Machine{BetaML.Bmlj.RandomForestClassifier, BetaML.Bmlj.RandomForestClassifier, true}DataFrame\n",
      "Machine{BetaML.Bmlj.RandomForestClassifier, BetaML.Bmlj.RandomForestClassifier, true}DataFrame\n",
      "acc / test_acc: 0.945048693149493 / 0.9440674373724115\n"
     ]
    }
   ],
   "source": [
    "function analyze_acc(mach, X, y)\n",
    "    println(typeof(mach), typeof(X))\n",
    "    p = predict(mach, X)\n",
    "    yhat = mode.(p)\n",
    "    acc = accuracy(yhat, y)\n",
    "    return acc\n",
    "end\n",
    "\n",
    "acc = analyze_acc(mach, X, y)\n",
    "test_acc = analyze_acc(mach, X_test, y_test)\n",
    "println(\"acc / test_acc: $acc / $test_acc\")"
   ]
  },
  {
   "cell_type": "code",
   "execution_count": 8,
   "metadata": {},
   "outputs": [
    {
     "data": {
      "text/plain": [
       "268931-element CategoricalDistributions.UnivariateFiniteVector{Multiclass{2}, Float64, UInt32, Float64}:\n",
       " UnivariateFinite{Multiclass{2}}(0.0=>0.641, 1.0=>0.359)\n",
       " UnivariateFinite{Multiclass{2}}(0.0=>0.99, 1.0=>0.00989)\n",
       " UnivariateFinite{Multiclass{2}}(0.0=>0.311, 1.0=>0.689)\n",
       " UnivariateFinite{Multiclass{2}}(0.0=>0.75, 1.0=>0.25)\n",
       " UnivariateFinite{Multiclass{2}}(0.0=>0.309, 1.0=>0.691)\n",
       " UnivariateFinite{Multiclass{2}}(0.0=>0.998, 1.0=>0.00242)\n",
       " UnivariateFinite{Multiclass{2}}(0.0=>0.251, 1.0=>0.749)\n",
       " UnivariateFinite{Multiclass{2}}(0.0=>0.994, 1.0=>0.00612)\n",
       " UnivariateFinite{Multiclass{2}}(0.0=>0.222, 1.0=>0.778)\n",
       " UnivariateFinite{Multiclass{2}}(0.0=>0.973, 1.0=>0.0265)\n",
       " ⋮\n",
       " UnivariateFinite{Multiclass{2}}(0.0=>0.851, 1.0=>0.149)\n",
       " UnivariateFinite{Multiclass{2}}(0.0=>0.997, 1.0=>0.00295)\n",
       " UnivariateFinite{Multiclass{2}}(0.0=>0.998, 1.0=>0.00234)\n",
       " UnivariateFinite{Multiclass{2}}(0.0=>0.752, 1.0=>0.248)\n",
       " UnivariateFinite{Multiclass{2}}(0.0=>0.998, 1.0=>0.00234)\n",
       " UnivariateFinite{Multiclass{2}}(0.0=>0.966, 1.0=>0.034)\n",
       " UnivariateFinite{Multiclass{2}}(0.0=>0.519, 1.0=>0.481)\n",
       " UnivariateFinite{Multiclass{2}}(0.0=>0.496, 1.0=>0.504)\n",
       " UnivariateFinite{Multiclass{2}}(0.0=>0.345, 1.0=>0.655)"
      ]
     },
     "metadata": {},
     "output_type": "display_data"
    }
   ],
   "source": [
    "p = predict(mach, X_test)"
   ]
  },
  {
   "cell_type": "code",
   "execution_count": null,
   "metadata": {},
   "outputs": [
    {
     "data": {
      "text/plain": [
       "UnivariateFinite{Multiclass{2}}(0.0=>0.641, 1.0=>0.359)"
      ]
     },
     "metadata": {},
     "output_type": "display_data"
    }
   ],
   "source": [
    "p[1]."
   ]
  },
  {
   "cell_type": "code",
   "execution_count": 18,
   "metadata": {},
   "outputs": [
    {
     "data": {
      "text/plain": [
       "UnivariateFinite{Multiclass{2}}(0.0=>0.641, 1.0=>0.359)"
      ]
     },
     "metadata": {},
     "output_type": "display_data"
    }
   ],
   "source": [
    "collect(p)[1]"
   ]
  },
  {
   "cell_type": "code",
   "execution_count": 22,
   "metadata": {},
   "outputs": [
    {
     "ename": "MethodError",
     "evalue": "MethodError: no method matching pdf(::CategoricalDistributions.UnivariateFiniteVector{Multiclass{2}, Float64, UInt32, Float64}, ::Float64)\n\nClosest candidates are:\n  pdf(!Matched::Distributions.Kolmogorov, ::Real)\n   @ Distributions ~/.julia/packages/Distributions/tQhJE/src/univariate/continuous/kolmogorov.jl:80\n  pdf(!Matched::Distributions.DiscreteUniform, ::Real)\n   @ Distributions ~/.julia/packages/Distributions/tQhJE/src/univariate/discrete/discreteuniform.jl:73\n  pdf(!Matched::Distributions.Hypergeometric, ::Real)\n   @ Distributions ~/.julia/packages/Distributions/tQhJE/src/univariates.jl:644\n  ...\n",
     "output_type": "error",
     "traceback": [
      "MethodError: no method matching pdf(::CategoricalDistributions.UnivariateFiniteVector{Multiclass{2}, Float64, UInt32, Float64}, ::Float64)\n",
      "\n",
      "Closest candidates are:\n",
      "  pdf(!Matched::Distributions.Kolmogorov, ::Real)\n",
      "   @ Distributions ~/.julia/packages/Distributions/tQhJE/src/univariate/continuous/kolmogorov.jl:80\n",
      "  pdf(!Matched::Distributions.DiscreteUniform, ::Real)\n",
      "   @ Distributions ~/.julia/packages/Distributions/tQhJE/src/univariate/discrete/discreteuniform.jl:73\n",
      "  pdf(!Matched::Distributions.Hypergeometric, ::Real)\n",
      "   @ Distributions ~/.julia/packages/Distributions/tQhJE/src/univariates.jl:644\n",
      "  ...\n",
      "\n",
      "\n",
      "Stacktrace:\n",
      " [1] top-level scope\n",
      "   @ ~/Projects/Catan/CatanLearning.jl/src/learning/jl_notebook_cell_df34fa98e69747e1a8f8a730347b8e2f_X13sZmlsZQ==.jl:1"
     ]
    }
   ],
   "source": [
    "pdf(p, 0.0)"
   ]
  },
  {
   "cell_type": "code",
   "execution_count": 28,
   "metadata": {},
   "outputs": [
    {
     "data": {
      "text/plain": [
       "2-element Vector{Float64}:\n",
       " 0.0\n",
       " 1.0"
      ]
     },
     "metadata": {},
     "output_type": "display_data"
    }
   ],
   "source": [
    "v = coerce([0.0, 1.0], Multiclass)\n",
    "levels(v)"
   ]
  },
  {
   "cell_type": "code",
   "execution_count": 33,
   "metadata": {},
   "outputs": [
    {
     "data": {
      "text/plain": [
       "268931×3 Matrix{Float64}:\n",
       " 0.640547  0.359453    0.0\n",
       " 0.990115  0.00988541  0.0\n",
       " 0.310886  0.689114    1.0\n",
       " 0.749601  0.250399    0.0\n",
       " 0.309336  0.690664    1.0\n",
       " 0.997583  0.00241674  0.0\n",
       " 0.2511    0.7489      1.0\n",
       " 0.993878  0.00612214  0.0\n",
       " 0.222223  0.777777    1.0\n",
       " 0.973467  0.0265332   0.0\n",
       " ⋮                     \n",
       " 0.851408  0.148592    0.0\n",
       " 0.997052  0.00294837  0.0\n",
       " 0.997655  0.00234465  0.0\n",
       " 0.751906  0.248094    0.0\n",
       " 0.997655  0.00234465  0.0\n",
       " 0.965991  0.0340089   0.0\n",
       " 0.518522  0.481478    0.0\n",
       " 0.496341  0.503659    0.0\n",
       " 0.344541  0.655459    1.0"
      ]
     },
     "metadata": {},
     "output_type": "display_data"
    }
   ],
   "source": [
    "M = pdf(p, levels(v))\n",
    "hcat(M, y_test)"
   ]
  },
  {
   "cell_type": "code",
   "execution_count": 44,
   "metadata": {},
   "outputs": [
    {
     "data": {
      "text/plain": [
       "get_confusion (generic function with 2 methods)"
      ]
     },
     "metadata": {},
     "output_type": "display_data"
    }
   ],
   "source": [
    "function get_confusion(M, y_true, thresh = 0.5)\n",
    "    d = Dict([:fp => 0, :fn => 0, :tn => 0, :tp => 0])\n",
    "    n = size(M,1)\n",
    "    for i=1:n \n",
    "        if M[i,2] > thresh\n",
    "            if y_true[i] == 1.0\n",
    "                d[:tp] += 1\n",
    "            else\n",
    "                d[:fp] += 1\n",
    "            end\n",
    "        else\n",
    "            if y_true[i] == 1.0\n",
    "                d[:fn] += 1\n",
    "            else\n",
    "                d[:tn] += 1\n",
    "            end\n",
    "        end\n",
    "    end\n",
    "    return d\n",
    "end"
   ]
  },
  {
   "cell_type": "code",
   "execution_count": 46,
   "metadata": {},
   "outputs": [
    {
     "data": {
      "text/plain": [
       "Dict{Symbol, Int64} with 4 entries:\n",
       "  :tn => 196062\n",
       "  :fp => 9974\n",
       "  :tp => 57827\n",
       "  :fn => 5068"
      ]
     },
     "metadata": {},
     "output_type": "display_data"
    }
   ],
   "source": [
    "get_confusion(M, y_test, 0.5)"
   ]
  },
  {
   "cell_type": "code",
   "execution_count": 55,
   "metadata": {},
   "outputs": [
    {
     "data": {
      "text/plain": [
       "0.9239826633500551"
      ]
     },
     "metadata": {},
     "output_type": "display_data"
    }
   ],
   "source": [
    "measures(\"FScore\")\n",
    "m = MulticlassFScore()\n",
    "m(mode.(p), y_test)"
   ]
  },
  {
   "cell_type": "code",
   "execution_count": 59,
   "metadata": {},
   "outputs": [
    {
     "name": "stderr",
     "output_type": "stream",
     "text": [
      "\u001b[33mEvaluating over 6 folds: 100%[=========================] Time: 0:00:52\u001b[39m\u001b[K\n"
     ]
    },
    {
     "data": {
      "text/plain": [
       "PerformanceEvaluation object with these fields:\n",
       "  model, measure, operation,\n",
       "  measurement, per_fold, per_observation,\n",
       "  fitted_params_per_fold, report_per_fold,\n",
       "  train_test_rows, resampling, repeats\n",
       "Extract:\n",
       "┌───┬──────────────────────────────┬──────────────┬─────────────┐\n",
       "│\u001b[22m   \u001b[0m│\u001b[22m measure                      \u001b[0m│\u001b[22m operation    \u001b[0m│\u001b[22m measurement \u001b[0m│\n",
       "├───┼──────────────────────────────┼──────────────┼─────────────┤\n",
       "│ A │ MulticlassFScore(            │ predict_mode │ 0.931       │\n",
       "│   │   beta = 1.0,                │              │             │\n",
       "│   │   average = MacroAvg(),      │              │             │\n",
       "│   │   return_type = LittleDict,  │              │             │\n",
       "│   │   levels = nothing,          │              │             │\n",
       "│   │   perm = nothing,            │              │             │\n",
       "│   │   rev = nothing,             │              │             │\n",
       "│   │   checks = true)             │              │             │\n",
       "│ B │ BalancedAccuracy(            │ predict_mode │ 0.884       │\n",
       "│   │   adjusted = true)           │              │             │\n",
       "└───┴──────────────────────────────┴──────────────┴─────────────┘\n",
       "┌───┬────────────────────────────────────────────┬─────────┐\n",
       "│\u001b[22m   \u001b[0m│\u001b[22m per_fold                                   \u001b[0m│\u001b[22m 1.96*SE \u001b[0m│\n",
       "├───┼────────────────────────────────────────────┼─────────┤\n",
       "│ A │ [0.935, 0.926, 0.937, 0.922, 0.936, 0.932] │ 0.00525 │\n",
       "│ B │ [0.885, 0.871, 0.896, 0.88, 0.892, 0.881]  │ 0.00763 │\n",
       "└───┴────────────────────────────────────────────┴─────────┘\n"
      ]
     },
     "metadata": {},
     "output_type": "display_data"
    }
   ],
   "source": [
    "predict(mach, X_test)[1:3]\n",
    "e = evaluate!(mach, resampling=CV(nfolds=6), measures=[m, BalancedAccuracy(adjusted=true)])"
   ]
  },
  {
   "cell_type": "code",
   "execution_count": 61,
   "metadata": {},
   "outputs": [
    {
     "data": {
      "text/plain": [
       "2-element Vector{Float64}:\n",
       " 0.9313422991300225\n",
       " 0.8840891990606369"
      ]
     },
     "metadata": {},
     "output_type": "display_data"
    }
   ],
   "source": [
    "e.measurement"
   ]
  },
  {
   "cell_type": "code",
   "execution_count": null,
   "metadata": {},
   "outputs": [
    {
     "ename": "ArgumentError",
     "evalue": "ArgumentError: You need to specify `range=...`, unless `tuning=Explicit()` and and `models=...` is specified instead. ",
     "output_type": "error",
     "traceback": [
      "ArgumentError: You need to specify `range=...`, unless `tuning=Explicit()` and and `models=...` is specified instead. \n",
      "\n",
      "Stacktrace:\n",
      " [1] TunedModel(args::BetaML.Bmlj.RandomForestClassifier; model::Nothing, models::Nothing, tuning::Explicit, resampling::CV, measures::Nothing, measure::StatisticalMeasuresBase.FussyMeasure{StatisticalMeasuresBase.RobustMeasure{StatisticalMeasures._MulticlassFScore{MacroAvg, LittleDict, Nothing, Float64}}, Nothing}, weights::Nothing, class_weights::Nothing, operations::Nothing, operation::Nothing, ranges::Nothing, range::Nothing, selection_heuristic::MLJTuning.NaiveSelection, train_best::Bool, repeats::Int64, n::Int64, acceleration::CPU1{Nothing}, acceleration_resampling::CPU1{Nothing}, check_measure::Bool, cache::Bool, compact_history::Bool, logger::Nothing)\n",
      "   @ MLJTuning ~/.julia/packages/MLJTuning/vMe8s/src/tuned_models.jl:328\n",
      " [2] top-level scope\n",
      "   @ ~/Projects/Catan/CatanLearning.jl/src/learning/jl_notebook_cell_df34fa98e69747e1a8f8a730347b8e2f_X25sZmlsZQ==.jl:2"
     ]
    }
   ],
   "source": [
    "#r = range(tree, :threshold, lower=0.1, upper=0.9)\n",
    "tuned_tree = TunedModel(\n",
    "    models=[tree],\n",
    "    tuning=Explicit(),#RandomSearch(),\n",
    "    resampling=CV(nfolds=6),\n",
    "    range = nothing,#r,\n",
    "    measure=m,\n",
    "    n=30\n",
    ")\n",
    "mach2 = machine(tuned_tree, X, y) |> fit!\n",
    "optimized_tree = report(mach2).best_model\n",
    "optimized_tree.threshold"
   ]
  },
  {
   "cell_type": "code",
   "execution_count": 63,
   "metadata": {},
   "outputs": [
    {
     "data": {
      "text/plain": [
       "RandomForestClassifier(\n",
       "  n_trees = 30, \n",
       "  max_depth = 6, \n",
       "  min_gain = 0.0, \n",
       "  min_records = 2, \n",
       "  max_features = 0, \n",
       "  splitting_criterion = BetaML.Utils.gini, \n",
       "  β = 0.0, \n",
       "  rng = Random._GLOBAL_RNG())"
      ]
     },
     "metadata": {},
     "output_type": "display_data"
    }
   ],
   "source": [
    "tree"
   ]
  },
  {
   "cell_type": "code",
   "execution_count": null,
   "metadata": {},
   "outputs": [],
   "source": []
  }
 ],
 "metadata": {
  "kernelspec": {
   "display_name": "Julia 1.10.4",
   "language": "julia",
   "name": "julia-1.10"
  },
  "language_info": {
   "file_extension": ".jl",
   "mimetype": "application/julia",
   "name": "julia",
   "version": "1.10.4"
  }
 },
 "nbformat": 4,
 "nbformat_minor": 2
}
